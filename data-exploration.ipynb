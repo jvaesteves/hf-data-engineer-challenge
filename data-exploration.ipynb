{
 "cells": [
  {
   "cell_type": "markdown",
   "metadata": {},
   "source": [
    "# Task 1"
   ]
  },
  {
   "cell_type": "markdown",
   "metadata": {},
   "source": [
    "## Recipes data exploration"
   ]
  },
  {
   "cell_type": "markdown",
   "metadata": {},
   "source": [
    "### Download dataset and install dependencies"
   ]
  },
  {
   "cell_type": "code",
   "execution_count": 1,
   "metadata": {},
   "outputs": [],
   "source": [
    "# !wget https://s3-eu-west-1.amazonaws.com/dwh-test-resources/recipes.json -O /tmp/recipes.json\n",
    "# !pip install -U pandas openpyxl"
   ]
  },
  {
   "cell_type": "markdown",
   "metadata": {},
   "source": [
    "### Import dependencies"
   ]
  },
  {
   "cell_type": "code",
   "execution_count": 2,
   "metadata": {},
   "outputs": [],
   "source": [
    "from pyspark.sql.types import StringType, StructType, StructField\n",
    "from pyspark.sql.functions import *\n",
    "from pyspark.sql import SparkSession, DataFrame\n",
    "from functools import reduce\n",
    "from datetime import date\n",
    "\n",
    "SRC_PATH = '/tmp/recipes.json'\n",
    "DEST_PATH = '/tmp/result'"
   ]
  },
  {
   "cell_type": "markdown",
   "metadata": {},
   "source": [
    "### Configure SparkSession"
   ]
  },
  {
   "cell_type": "code",
   "execution_count": 3,
   "metadata": {},
   "outputs": [],
   "source": [
    "spark = SparkSession.builder.getOrCreate()\n",
    "spark.conf.set(\"spark.sql.repl.eagerEval.enabled\", True)"
   ]
  },
  {
   "cell_type": "markdown",
   "metadata": {},
   "source": [
    "### First impressions of dataset"
   ]
  },
  {
   "cell_type": "code",
   "execution_count": 4,
   "metadata": {},
   "outputs": [
    {
     "data": {
      "text/html": [
       "<table border='1'>\n",
       "<tr><th>cookTime</th><th>datePublished</th><th>description</th><th>image</th><th>ingredients</th><th>name</th><th>prepTime</th><th>recipeYield</th><th>url</th></tr>\n",
       "<tr><td>PT</td><td>2013-04-01</td><td>Got leftover East...</td><td>http://static.the...</td><td>12 whole Hard Boi...</td><td>Easter Leftover S...</td><td>PT15M</td><td>8</td><td>http://thepioneer...</td></tr>\n",
       "<tr><td>PT10M</td><td>2011-06-06</td><td>I finally have ba...</td><td>http://static.the...</td><td>3/4 cups Fresh Ba...</td><td>Pasta with Pesto ...</td><td>PT6M</td><td>8</td><td>http://thepioneer...</td></tr>\n",
       "<tr><td>PT15M</td><td>2011-09-15</td><td>This was yummy. A...</td><td>http://static.the...</td><td>2 whole Pork Tend...</td><td>Herb Roasted Pork...</td><td>PT5M</td><td>12</td><td>http://thepioneer...</td></tr>\n",
       "<tr><td>PT20M</td><td>2012-04-23</td><td>I made this for a...</td><td>http://static.the...</td><td>1 pound Penne\n",
       "4 w...</td><td>Chicken Florentin...</td><td>PT10M</td><td>10</td><td>http://thepioneer...</td></tr>\n",
       "<tr><td>PT</td><td>2011-06-13</td><td>Iced coffee is my...</td><td>http://static.the...</td><td>1 pound Ground Co...</td><td>Perfect Iced Coffee</td><td>PT8H</td><td>24</td><td>http://thepioneer...</td></tr>\n",
       "<tr><td>PT10M</td><td>2012-05-31</td><td>When I was in Alb...</td><td>http://static.the...</td><td>1 whole Onion, Di...</td><td>Easy Green Chile ...</td><td>PT5M</td><td>4</td><td>http://thepioneer...</td></tr>\n",
       "<tr><td>PT5M</td><td>2013-03-25</td><td>Imagine the Easte...</td><td>http://static.the...</td><td>4 Tablespoons But...</td><td>Krispy Easter Eggs</td><td>PT20M</td><td>12</td><td>http://thepioneer...</td></tr>\n",
       "<tr><td>PT25M</td><td>2012-08-06</td><td>Who doesn&#x27;t love ...</td><td>http://static.the...</td><td>1 stick Butter\n",
       "1 ...</td><td>Patty Melts</td><td>PT10M</td><td>4</td><td>http://thepioneer...</td></tr>\n",
       "<tr><td>PT2M</td><td>2012-08-10</td><td>Note from PW: On ...</td><td>http://static.the...</td><td> Doughnuts\n",
       "1-1/8 ...</td><td>Yum. Doughnuts!</td><td>PT25M</td><td>18</td><td>http://thepioneer...</td></tr>\n",
       "<tr><td>PT15M</td><td>2012-08-01</td><td>This is just a qu...</td><td>http://static.the...</td><td>1 pound Pasta (fe...</td><td>Buttery Lemon Par...</td><td>PT5M</td><td>8</td><td>http://thepioneer...</td></tr>\n",
       "<tr><td>PT1H15M</td><td>2012-08-13</td><td>There&#x27;s nothing s...</td><td>http://static.the...</td><td>1 whole Chicken, ...</td><td>Roast Chicken</td><td>PT10M</td><td>4</td><td>http://thepioneer...</td></tr>\n",
       "<tr><td>PT1H</td><td>2012-08-18</td><td>On this morning&#x27;s...</td><td>http://static.the...</td><td> FRENCH TOAST\n",
       " Bu...</td><td>Baked French Toast</td><td>PT15M</td><td>8</td><td>http://thepioneer...</td></tr>\n",
       "<tr><td>PT10M</td><td>2012-08-15</td><td>I love slice-and-...</td><td>http://static.the...</td><td>2-1/2 cups All-pu...</td><td>Yummy Slice-and-B...</td><td>PT15M</td><td>30</td><td>http://thepioneer...</td></tr>\n",
       "<tr><td>PT20M</td><td>2012-08-20</td><td>I love grilled ve...</td><td>http://static.the...</td><td>6 whole Zucchini ...</td><td>Yummy Grilled Zuc...</td><td>PT30M</td><td>8</td><td>http://thepioneer...</td></tr>\n",
       "<tr><td>PT10M</td><td>2012-08-29</td><td>When we went to V...</td><td>http://static.the...</td><td>16 whole Graham C...</td><td>Chocolate Covered...</td><td>PT20M</td><td>8</td><td>http://thepioneer...</td></tr>\n",
       "<tr><td>PT5M</td><td>2012-08-22</td><td>I love compound b...</td><td>http://static.the...</td><td> HOTEL BUTTER\n",
       "2 s...</td><td>T-Bone Steaks wit...</td><td>PT20M</td><td>4</td><td>http://thepioneer...</td></tr>\n",
       "<tr><td>PT</td><td>2012-08-31</td><td> I&#x27;ve got Mango M...</td><td>http://static.the...</td><td>2 whole Limes\n",
       "2 T...</td><td>Mango Margaritas!</td><td>PT10M</td><td>8</td><td>http://thepioneer...</td></tr>\n",
       "<tr><td>PT45M</td><td>2012-01-04</td><td>I&#x27;m Pioneer Woman...</td><td>http://static.the...</td><td>5 cloves Garlic, ...</td><td>Tuscan Bean Soup ...</td><td>PT10M</td><td>8</td><td>http://thepioneer...</td></tr>\n",
       "<tr><td>PT1H</td><td>2011-12-30</td><td>I&#x27;m not a big bel...</td><td>http://static.the...</td><td>4 Tablespoons But...</td><td>Hoppin’ John</td><td>PT6H</td><td>10</td><td>http://thepioneer...</td></tr>\n",
       "<tr><td>PT15M</td><td>2012-01-11</td><td>I would like to s...</td><td>http://static.the...</td><td>8 whole Everythin...</td><td>Turkey Bagel Burger</td><td>PT10M</td><td>8</td><td>http://thepioneer...</td></tr>\n",
       "</table>\n",
       "only showing top 20 rows\n"
      ],
      "text/plain": [
       "+--------+-------------+--------------------+--------------------+--------------------+--------------------+--------+-----------+--------------------+\n",
       "|cookTime|datePublished|         description|               image|         ingredients|                name|prepTime|recipeYield|                 url|\n",
       "+--------+-------------+--------------------+--------------------+--------------------+--------------------+--------+-----------+--------------------+\n",
       "|      PT|   2013-04-01|Got leftover East...|http://static.the...|12 whole Hard Boi...|Easter Leftover S...|   PT15M|          8|http://thepioneer...|\n",
       "|   PT10M|   2011-06-06|I finally have ba...|http://static.the...|3/4 cups Fresh Ba...|Pasta with Pesto ...|    PT6M|          8|http://thepioneer...|\n",
       "|   PT15M|   2011-09-15|This was yummy. A...|http://static.the...|2 whole Pork Tend...|Herb Roasted Pork...|    PT5M|         12|http://thepioneer...|\n",
       "|   PT20M|   2012-04-23|I made this for a...|http://static.the...|1 pound Penne\n",
       "4 w...|Chicken Florentin...|   PT10M|         10|http://thepioneer...|\n",
       "|      PT|   2011-06-13|Iced coffee is my...|http://static.the...|1 pound Ground Co...| Perfect Iced Coffee|    PT8H|         24|http://thepioneer...|\n",
       "|   PT10M|   2012-05-31|When I was in Alb...|http://static.the...|1 whole Onion, Di...|Easy Green Chile ...|    PT5M|          4|http://thepioneer...|\n",
       "|    PT5M|   2013-03-25|Imagine the Easte...|http://static.the...|4 Tablespoons But...|  Krispy Easter Eggs|   PT20M|         12|http://thepioneer...|\n",
       "|   PT25M|   2012-08-06|Who doesn't love ...|http://static.the...|1 stick Butter\n",
       "1 ...|         Patty Melts|   PT10M|          4|http://thepioneer...|\n",
       "|    PT2M|   2012-08-10|Note from PW: On ...|http://static.the...| Doughnuts\n",
       "1-1/8 ...|     Yum. Doughnuts!|   PT25M|         18|http://thepioneer...|\n",
       "|   PT15M|   2012-08-01|This is just a qu...|http://static.the...|1 pound Pasta (fe...|Buttery Lemon Par...|    PT5M|          8|http://thepioneer...|\n",
       "| PT1H15M|   2012-08-13|There's nothing s...|http://static.the...|1 whole Chicken, ...|       Roast Chicken|   PT10M|          4|http://thepioneer...|\n",
       "|    PT1H|   2012-08-18|On this morning's...|http://static.the...| FRENCH TOAST\n",
       " Bu...|  Baked French Toast|   PT15M|          8|http://thepioneer...|\n",
       "|   PT10M|   2012-08-15|I love slice-and-...|http://static.the...|2-1/2 cups All-pu...|Yummy Slice-and-B...|   PT15M|         30|http://thepioneer...|\n",
       "|   PT20M|   2012-08-20|I love grilled ve...|http://static.the...|6 whole Zucchini ...|Yummy Grilled Zuc...|   PT30M|          8|http://thepioneer...|\n",
       "|   PT10M|   2012-08-29|When we went to V...|http://static.the...|16 whole Graham C...|Chocolate Covered...|   PT20M|          8|http://thepioneer...|\n",
       "|    PT5M|   2012-08-22|I love compound b...|http://static.the...| HOTEL BUTTER\n",
       "2 s...|T-Bone Steaks wit...|   PT20M|          4|http://thepioneer...|\n",
       "|      PT|   2012-08-31| I've got Mango M...|http://static.the...|2 whole Limes\n",
       "2 T...|   Mango Margaritas!|   PT10M|          8|http://thepioneer...|\n",
       "|   PT45M|   2012-01-04|I'm Pioneer Woman...|http://static.the...|5 cloves Garlic, ...|Tuscan Bean Soup ...|   PT10M|          8|http://thepioneer...|\n",
       "|    PT1H|   2011-12-30|I'm not a big bel...|http://static.the...|4 Tablespoons But...|        Hoppin’ John|    PT6H|         10|http://thepioneer...|\n",
       "|   PT15M|   2012-01-11|I would like to s...|http://static.the...|8 whole Everythin...| Turkey Bagel Burger|   PT10M|          8|http://thepioneer...|\n",
       "+--------+-------------+--------------------+--------------------+--------------------+--------------------+--------+-----------+--------------------+\n",
       "only showing top 20 rows"
      ]
     },
     "execution_count": 4,
     "metadata": {},
     "output_type": "execute_result"
    }
   ],
   "source": [
    "input_df = spark.read.json(SRC_PATH)\n",
    "input_df"
   ]
  },
  {
   "cell_type": "code",
   "execution_count": 5,
   "metadata": {},
   "outputs": [
    {
     "name": "stdout",
     "output_type": "stream",
     "text": [
      "root\n",
      " |-- cookTime: string (nullable = true)\n",
      " |-- datePublished: string (nullable = true)\n",
      " |-- description: string (nullable = true)\n",
      " |-- image: string (nullable = true)\n",
      " |-- ingredients: string (nullable = true)\n",
      " |-- name: string (nullable = true)\n",
      " |-- prepTime: string (nullable = true)\n",
      " |-- recipeYield: string (nullable = true)\n",
      " |-- url: string (nullable = true)\n",
      "\n"
     ]
    }
   ],
   "source": [
    "input_df.printSchema()"
   ]
  },
  {
   "cell_type": "code",
   "execution_count": 6,
   "metadata": {},
   "outputs": [
    {
     "data": {
      "text/html": [
       "<table border='1'>\n",
       "<tr><th>summary</th><th>cookTime</th><th>datePublished</th><th>description</th><th>image</th><th>ingredients</th><th>name</th><th>prepTime</th><th>recipeYield</th><th>url</th></tr>\n",
       "<tr><td>count</td><td>1042</td><td>1042</td><td>1042</td><td>1042</td><td>1042</td><td>1042</td><td>1042</td><td>1042</td><td>1042</td></tr>\n",
       "<tr><td>mean</td><td>null</td><td>null</td><td>null</td><td>null</td><td>null</td><td>null</td><td>null</td><td>9.738404452690167</td><td>null</td></tr>\n",
       "<tr><td>stddev</td><td>null</td><td>null</td><td>null</td><td>null</td><td>null</td><td>null</td><td>null</td><td>6.529901914334942</td><td>null</td></tr>\n",
       "<tr><td>min</td><td></td><td>2003-05-27</td><td>      IMPORTANT: ...</td><td>http://static.the...</td><td> (Quantities Depe...</td><td></td><td></td><td></td><td>http://thepioneer...</td></tr>\n",
       "<tr><td>max</td><td>PT9M</td><td>2013-04-01</td><td>   We just had a ...</td><td>http://www.101coo...</td><td>~1 1/2 cups (7 ou...</td><td>Zucchini Ricotta ...</td><td>PT950M</td><td>Serves six.</td><td>http://www.101coo...</td></tr>\n",
       "</table>\n"
      ],
      "text/plain": [
       "+-------+--------+-------------+--------------------+--------------------+--------------------+--------------------+--------+-----------------+--------------------+\n",
       "|summary|cookTime|datePublished|         description|               image|         ingredients|                name|prepTime|      recipeYield|                 url|\n",
       "+-------+--------+-------------+--------------------+--------------------+--------------------+--------------------+--------+-----------------+--------------------+\n",
       "|  count|    1042|         1042|                1042|                1042|                1042|                1042|    1042|             1042|                1042|\n",
       "|   mean|    null|         null|                null|                null|                null|                null|    null|9.738404452690167|                null|\n",
       "| stddev|    null|         null|                null|                null|                null|                null|    null|6.529901914334942|                null|\n",
       "|    min|        |   2003-05-27|      IMPORTANT: ...|http://static.the...| (Quantities Depe...|                    |        |                 |http://thepioneer...|\n",
       "|    max|    PT9M|   2013-04-01|   We just had a ...|http://www.101coo...|~1 1/2 cups (7 ou...|Zucchini Ricotta ...|  PT950M|      Serves six.|http://www.101coo...|\n",
       "+-------+--------+-------------+--------------------+--------------------+--------------------+--------------------+--------+-----------------+--------------------+"
      ]
     },
     "execution_count": 6,
     "metadata": {},
     "output_type": "execute_result"
    }
   ],
   "source": [
    "input_df.describe()"
   ]
  },
  {
   "cell_type": "markdown",
   "metadata": {},
   "source": [
    "### Now that I know the names and types of the dataset fields and the null count, I can enforce a simple schema"
   ]
  },
  {
   "cell_type": "code",
   "execution_count": 7,
   "metadata": {},
   "outputs": [],
   "source": [
    "schema = StructType([\n",
    "    StructField('cookTime', StringType()),\n",
    "    StructField('datePublished', StringType()),\n",
    "    StructField('description', StringType()),\n",
    "    StructField('image', StringType()),\n",
    "    StructField('ingredients', StringType()),\n",
    "    StructField('name', StringType()),\n",
    "    StructField('prepTime', StringType()),\n",
    "    StructField('recipeYield', StringType()),\n",
    "    StructField('url', StringType()),\n",
    "])\n",
    "\n",
    "input_df = spark.read.json(SRC_PATH, schema=schema)\n",
    "input_df.createOrReplaceTempView('raw')"
   ]
  },
  {
   "cell_type": "markdown",
   "metadata": {},
   "source": [
    "### Validating if 'datePublished' can be converted to date"
   ]
  },
  {
   "cell_type": "code",
   "execution_count": 8,
   "metadata": {},
   "outputs": [
    {
     "data": {
      "text/html": [
       "<table border='1'>\n",
       "<tr><th>count_if((to_date(raw.`datePublished`) IS NULL))</th></tr>\n",
       "<tr><td>0</td></tr>\n",
       "</table>\n"
      ],
      "text/plain": [
       "+------------------------------------------------+\n",
       "|count_if((to_date(raw.`datePublished`) IS NULL))|\n",
       "+------------------------------------------------+\n",
       "|                                               0|\n",
       "+------------------------------------------------+"
      ]
     },
     "execution_count": 8,
     "metadata": {},
     "output_type": "execute_result"
    }
   ],
   "source": [
    "spark.sql(\"SELECT count_if(to_date(datePublished) IS NULL) FROM raw\")"
   ]
  },
  {
   "cell_type": "code",
   "execution_count": 9,
   "metadata": {},
   "outputs": [
    {
     "data": {
      "text/html": [
       "<table border='1'>\n",
       "<tr><th>min(to_date(raw.`datePublished`))</th><th>max(to_date(raw.`datePublished`))</th></tr>\n",
       "<tr><td>2003-05-27</td><td>2013-04-01</td></tr>\n",
       "</table>\n"
      ],
      "text/plain": [
       "+---------------------------------+---------------------------------+\n",
       "|min(to_date(raw.`datePublished`))|max(to_date(raw.`datePublished`))|\n",
       "+---------------------------------+---------------------------------+\n",
       "|                       2003-05-27|                       2013-04-01|\n",
       "+---------------------------------+---------------------------------+"
      ]
     },
     "execution_count": 9,
     "metadata": {},
     "output_type": "execute_result"
    }
   ],
   "source": [
    "spark.sql(\"SELECT min(to_date(datePublished)), max(to_date(datePublished)) FROM raw\")"
   ]
  },
  {
   "cell_type": "markdown",
   "metadata": {},
   "source": [
    "### Validating if 'url' and 'image' have a valid URL format"
   ]
  },
  {
   "cell_type": "code",
   "execution_count": 10,
   "metadata": {},
   "outputs": [
    {
     "data": {
      "text/html": [
       "<table border='1'>\n",
       "<tr><th>url</th><th>image</th></tr>\n",
       "<tr><td>0</td><td>0</td></tr>\n",
       "</table>\n"
      ],
      "text/plain": [
       "+---+-----+\n",
       "|url|image|\n",
       "+---+-----+\n",
       "|  0|    0|\n",
       "+---+-----+"
      ]
     },
     "execution_count": 10,
     "metadata": {},
     "output_type": "execute_result"
    }
   ],
   "source": [
    "spark.sql(r\"\"\"\n",
    "    SELECT count_if(url NOT RLIKE '(https?)://(?:[^/$.?#]|\\S).\\S*') AS url,\n",
    "           count_if(image NOT RLIKE '(https?)://(?:[^/$.?#]|\\S).\\S*') AS image \n",
    "    FROM raw\n",
    "\"\"\")"
   ]
  },
  {
   "cell_type": "markdown",
   "metadata": {},
   "source": [
    "### Validating if 'name' column has any empty value"
   ]
  },
  {
   "cell_type": "code",
   "execution_count": 11,
   "metadata": {},
   "outputs": [
    {
     "data": {
      "text/html": [
       "<table border='1'>\n",
       "<tr><th>cookTime</th><th>datePublished</th><th>description</th><th>image</th><th>ingredients</th><th>name</th><th>prepTime</th><th>recipeYield</th><th>url</th></tr>\n",
       "<tr><td></td><td>2003-05-27</td><td>101 Cookbooks: Pe...</td><td>http://www.101coo...</td><td>Salt\n",
       "One 35-ounce...</td><td></td><td></td><td></td><td>http://www.101coo...</td></tr>\n",
       "<tr><td></td><td>2006-01-07</td><td>A twist on a clas...</td><td>http://www.101coo...</td><td>onions - 4 medium...</td><td></td><td></td><td></td><td>http://www.101coo...</td></tr>\n",
       "<tr><td>PT45M</td><td>2009-10-05</td><td>In the realm of g...</td><td>http://www.101coo...</td><td>1 quart (4 cups) ...</td><td></td><td>PT10M</td><td></td><td>http://www.101coo...</td></tr>\n",
       "</table>\n"
      ],
      "text/plain": [
       "+--------+-------------+--------------------+--------------------+--------------------+----+--------+-----------+--------------------+\n",
       "|cookTime|datePublished|         description|               image|         ingredients|name|prepTime|recipeYield|                 url|\n",
       "+--------+-------------+--------------------+--------------------+--------------------+----+--------+-----------+--------------------+\n",
       "|        |   2003-05-27|101 Cookbooks: Pe...|http://www.101coo...|Salt\n",
       "One 35-ounce...|    |        |           |http://www.101coo...|\n",
       "|        |   2006-01-07|A twist on a clas...|http://www.101coo...|onions - 4 medium...|    |        |           |http://www.101coo...|\n",
       "|   PT45M|   2009-10-05|In the realm of g...|http://www.101coo...|1 quart (4 cups) ...|    |   PT10M|           |http://www.101coo...|\n",
       "+--------+-------------+--------------------+--------------------+--------------------+----+--------+-----------+--------------------+"
      ]
     },
     "execution_count": 11,
     "metadata": {},
     "output_type": "execute_result"
    }
   ],
   "source": [
    "spark.sql(\"SELECT * FROM raw WHERE length(name) = 0\")"
   ]
  },
  {
   "cell_type": "markdown",
   "metadata": {},
   "source": [
    "These three empty occurrences can be filled based on the values of description, image and url"
   ]
  },
  {
   "cell_type": "markdown",
   "metadata": {},
   "source": [
    "### Validating if 'ingredients' can be converted to array[string\\]"
   ]
  },
  {
   "cell_type": "code",
   "execution_count": 12,
   "metadata": {},
   "outputs": [
    {
     "data": {
      "text/html": [
       "<table border='1'>\n",
       "<tr><th>col</th></tr>\n",
       "<tr><td> ",
       "For the glaze:</td></tr>\n",
       "<tr><td> ",
       "Fine-grain sea s...</td></tr>\n",
       "<tr><td> ",
       "5 1/2 cups / 1.3...</td></tr>\n",
       "<tr><td> ",
       "3/4 teaspoon bak...</td></tr>\n",
       "<tr><td> ",
       "3/4 cup / 180 ml...</td></tr>\n",
       "<tr><td> ",
       "3 large eggs, at...</td></tr>\n",
       "<tr><td> ",
       "3 cloves garlic,...</td></tr>\n",
       "<tr><td> ",
       "2/3 cup / 3 oz /...</td></tr>\n",
       "<tr><td> ",
       "2 large eggs, li...</td></tr>\n",
       "<tr><td> ",
       "1/4 teaspoon fin...</td></tr>\n",
       "<tr><td> ",
       "1/4 cup fresh pa...</td></tr>\n",
       "<tr><td> ",
       "1/4 cup (small h...</td></tr>\n",
       "<tr><td> ",
       "1/3 cup / 80 ml ...</td></tr>\n",
       "<tr><td> ",
       "1/2 teaspoon van...</td></tr>\n",
       "<tr><td> ",
       "1/2 teaspoon fin...</td></tr>\n",
       "<tr><td> ",
       "1/2 cup / 3 oz /...</td></tr>\n",
       "<tr><td> ",
       "1/2 cup / 2 oz /...</td></tr>\n",
       "<tr><td> ",
       "1/2 cup / 125 ml...</td></tr>\n",
       "<tr><td> ",
       "1/2 cup / 120 ml...</td></tr>\n",
       "<tr><td> ",
       "1/2 cup  / 4 oz ...</td></tr>\n",
       "</table>\n",
       "only showing top 20 rows\n"
      ],
      "text/plain": [
       "+--------------------+\n",
       "|                 col|\n",
       "+--------------------+\n",
       "|     \n",
       "For the glaze:|\n",
       "|\n",
       "Fine-grain sea s...|\n",
       "|\n",
       "5 1/2 cups / 1.3...|\n",
       "|\n",
       "3/4 teaspoon bak...|\n",
       "|\n",
       "3/4 cup / 180 ml...|\n",
       "|\n",
       "3 large eggs, at...|\n",
       "|\n",
       "3 cloves garlic,...|\n",
       "|\n",
       "2/3 cup / 3 oz /...|\n",
       "|\n",
       "2 large eggs, li...|\n",
       "|\n",
       "1/4 teaspoon fin...|\n",
       "|\n",
       "1/4 cup fresh pa...|\n",
       "|\n",
       "1/4 cup (small h...|\n",
       "|\n",
       "1/3 cup / 80 ml ...|\n",
       "|\n",
       "1/2 teaspoon van...|\n",
       "|\n",
       "1/2 teaspoon fin...|\n",
       "|\n",
       "1/2 cup / 3 oz /...|\n",
       "|\n",
       "1/2 cup / 2 oz /...|\n",
       "|\n",
       "1/2 cup / 125 ml...|\n",
       "|\n",
       "1/2 cup / 120 ml...|\n",
       "|\n",
       "1/2 cup  / 4 oz ...|\n",
       "+--------------------+\n",
       "only showing top 20 rows"
      ]
     },
     "execution_count": 12,
     "metadata": {},
     "output_type": "execute_result"
    }
   ],
   "source": [
    "spark.sql(\"\"\"\n",
    "    SELECT explode(split(ingredients, '\\n'))\n",
    "    FROM raw\n",
    "    ORDER BY 1 DESC\n",
    "\"\"\")"
   ]
  },
  {
   "cell_type": "code",
   "execution_count": 13,
   "metadata": {},
   "outputs": [
    {
     "data": {
      "text/html": [
       "<table border='1'>\n",
       "<tr><th>col</th></tr>\n",
       "<tr><td></td></tr>\n",
       "<tr><td></td></tr>\n",
       "<tr><td> </td></tr>\n",
       "<tr><td> </td></tr>\n",
       "<tr><td> </td></tr>\n",
       "<tr><td>  </td></tr>\n",
       "<tr><td>  </td></tr>\n",
       "<tr><td>   Cook time: 10 ...</td></tr>\n",
       "<tr><td>   Cook time: 45 ...</td></tr>\n",
       "<tr><td> (Quantities Depe...</td></tr>\n",
       "<tr><td> (add 1/2 Teaspoo...</td></tr>\n",
       "<tr><td> **Slightly Adapt...</td></tr>\n",
       "<tr><td> - my favorite fi...</td></tr>\n",
       "<tr><td> 1 Or 2 Slices Of...</td></tr>\n",
       "<tr><td> 1 tablespoon ext...</td></tr>\n",
       "<tr><td> 1/2 Cup Olive Oil</td></tr>\n",
       "<tr><td> 1/2 Hot Chili Pe...</td></tr>\n",
       "<tr><td> 1/2 Jalapeno, Se...</td></tr>\n",
       "<tr><td> 1/2 Red Onion, D...</td></tr>\n",
       "<tr><td> 1/2 Teaspoon Red...</td></tr>\n",
       "</table>\n",
       "only showing top 20 rows\n"
      ],
      "text/plain": [
       "+--------------------+\n",
       "|                 col|\n",
       "+--------------------+\n",
       "|                    |\n",
       "|                    |\n",
       "|                    |\n",
       "|                    |\n",
       "|                    |\n",
       "|                    |\n",
       "|                    |\n",
       "|   Cook time: 10 ...|\n",
       "|   Cook time: 45 ...|\n",
       "| (Quantities Depe...|\n",
       "| (add 1/2 Teaspoo...|\n",
       "| **Slightly Adapt...|\n",
       "| - my favorite fi...|\n",
       "| 1 Or 2 Slices Of...|\n",
       "| 1 tablespoon ext...|\n",
       "|   1/2 Cup Olive Oil|\n",
       "| 1/2 Hot Chili Pe...|\n",
       "| 1/2 Jalapeno, Se...|\n",
       "| 1/2 Red Onion, D...|\n",
       "| 1/2 Teaspoon Red...|\n",
       "+--------------------+\n",
       "only showing top 20 rows"
      ]
     },
     "execution_count": 13,
     "metadata": {},
     "output_type": "execute_result"
    }
   ],
   "source": [
    "spark.sql(\"\"\"\n",
    "    SELECT explode(split(ingredients, '\\n'))\n",
    "    FROM raw\n",
    "    ORDER BY 1\n",
    "\"\"\")"
   ]
  },
  {
   "cell_type": "markdown",
   "metadata": {},
   "source": [
    "For the subjectiveness of the ingredients column, it is better to keep it as a string"
   ]
  },
  {
   "cell_type": "markdown",
   "metadata": {},
   "source": [
    "### Validating if 'recipeYield' can be converted to integer"
   ]
  },
  {
   "cell_type": "code",
   "execution_count": 14,
   "metadata": {},
   "outputs": [
    {
     "data": {
      "text/html": [
       "<table border='1'>\n",
       "<tr><th>count(1)</th></tr>\n",
       "<tr><td>503</td></tr>\n",
       "</table>\n"
      ],
      "text/plain": [
       "+--------+\n",
       "|count(1)|\n",
       "+--------+\n",
       "|     503|\n",
       "+--------+"
      ]
     },
     "execution_count": 14,
     "metadata": {},
     "output_type": "execute_result"
    }
   ],
   "source": [
    "spark.sql(\"SELECT count(1) FROM raw WHERE CAST(recipeYield AS INT) IS NULL\")"
   ]
  },
  {
   "cell_type": "code",
   "execution_count": 15,
   "metadata": {},
   "outputs": [
    {
     "data": {
      "text/html": [
       "<table border='1'>\n",
       "<tr><th>cookTime</th><th>datePublished</th><th>description</th><th>image</th><th>ingredients</th><th>name</th><th>prepTime</th><th>recipeYield</th><th>url</th></tr>\n",
       "<tr><td></td><td>2009-07-06</td><td>From the Big Sur ...</td><td>http://www.101coo...</td><td>5 cups all-purpos...</td><td>Big Sur Bakery Hi...</td><td></td><td></td><td>http://www.101coo...</td></tr>\n",
       "<tr><td>PT30M</td><td>2009-08-27</td><td>An old-fashioned ...</td><td>http://www.101coo...</td><td>1 cup plus 2 tabl...</td><td>Old-Fashioned Blu...</td><td>PT10M</td><td>Serves  8 - 10.</td><td>http://www.101coo...</td></tr>\n",
       "<tr><td>PT60M</td><td>2009-10-25</td><td>An apple and carr...</td><td>http://www.101coo...</td><td>1/4 cup / 2 ounce...</td><td>Apple and Carrot ...</td><td>PT10M</td><td></td><td>http://www.101coo...</td></tr>\n",
       "<tr><td>PT15M</td><td>2009-11-15</td><td>Rustic orange-sce...</td><td>http://www.101coo...</td><td>3 cups whole whea...</td><td>Orange and Oat Sc...</td><td>PT10M</td><td></td><td>http://www.101coo...</td></tr>\n",
       "<tr><td>PT10M</td><td>2009-12-04</td><td>I made these for ...</td><td>http://www.101coo...</td><td>1/2 cup / 3.5 oz ...</td><td>Sparkling Ginger ...</td><td>PT30M</td><td></td><td>http://www.101coo...</td></tr>\n",
       "<tr><td></td><td>2009-12-09</td><td>This olive oil fl...</td><td>http://www.101coo...</td><td>4 1/2 cups / 1 lb...</td><td>Seeded Flatbread ...</td><td></td><td></td><td>http://www.101coo...</td></tr>\n",
       "<tr><td>PT45M</td><td>2010-03-10</td><td>These jammy, fig-...</td><td>http://www.101coo...</td><td>Dry mix:\n",
       "1 cup / ...</td><td>Figgy Buckwheat S...</td><td>PT100M</td><td></td><td>http://www.101coo...</td></tr>\n",
       "<tr><td>PT25M</td><td>2010-03-30</td><td>These muffins are...</td><td>http://www.101coo...</td><td>butter to grease ...</td><td>Lucia Muffins</td><td>PT20M</td><td>Makes 10 - 12 muf...</td><td>http://www.101coo...</td></tr>\n",
       "<tr><td>PT60M</td><td>2010-04-10</td><td>Dense, gooey choc...</td><td>http://www.101coo...</td><td>butter for greasi...</td><td>Chocolate Cherry ...</td><td>PT900M</td><td></td><td>http://www.101coo...</td></tr>\n",
       "<tr><td>PT60M</td><td>2010-04-24</td><td>A rustic, minimal...</td><td>http://www.101coo...</td><td>butter to grease ...</td><td>Quinoa Skillet Bread</td><td>PT10M</td><td>Makes one 10 1/2 ...</td><td>http://www.101coo...</td></tr>\n",
       "<tr><td>PT40M</td><td>2010-05-04</td><td>A simple spring c...</td><td>http://www.101coo...</td><td>butter for greasi...</td><td>Strawberry Rhubar...</td><td>PT20M</td><td></td><td>http://www.101coo...</td></tr>\n",
       "<tr><td>PT15M</td><td>2010-05-14</td><td>Cookies made from...</td><td>http://www.101coo...</td><td>3/4 cup / 3.5 oz ...</td><td>Quinoa Cloud Cookies</td><td>PT60M</td><td></td><td>http://www.101coo...</td></tr>\n",
       "<tr><td>PT45M</td><td>2010-05-23</td><td>A cake I made for...</td><td>http://www.101coo...</td><td>Olive oil for the...</td><td>Rosemary Olive Oi...</td><td>PT15M</td><td></td><td>http://www.101coo...</td></tr>\n",
       "<tr><td>PT50M</td><td>2010-06-27</td><td>Certainly not the...</td><td>http://www.101coo...</td><td>zest of one lemon...</td><td>Chocolate Loaf Cake</td><td>PT15M</td><td>Makes 8 - 10 slices.</td><td>http://www.101coo...</td></tr>\n",
       "<tr><td>PT40M</td><td>2010-05-31</td><td>Inspired by Hugh ...</td><td>http://www.101coo...</td><td>2 1/2 tablespoons...</td><td>Six-seed Soda Bre...</td><td>PT10M</td><td></td><td>http://www.101coo...</td></tr>\n",
       "<tr><td></td><td>2003-05-27</td><td>101 Cookbooks: Pe...</td><td>http://www.101coo...</td><td>Salt\n",
       "One 35-ounce...</td><td></td><td></td><td></td><td>http://www.101coo...</td></tr>\n",
       "<tr><td></td><td>2003-06-29</td><td>101 Cookbooks: Sc...</td><td>http://www.101coo...</td><td>6 ounces Scharffe...</td><td>Scharffen Berger ...</td><td></td><td></td><td>http://www.101coo...</td></tr>\n",
       "<tr><td></td><td>2004-09-06</td><td>101 Cookbooks: Ch...</td><td>http://www.101coo...</td><td>1 lb. Jacob&#x27;s Cat...</td><td>Chocolate Calypso...</td><td></td><td></td><td>http://www.101coo...</td></tr>\n",
       "<tr><td></td><td>2004-10-20</td><td>101 Cookbooks: Ap...</td><td>http://www.101coo...</td><td>3 tablespoons all...</td><td>Apple Pie Recipe</td><td></td><td>Serves 6 to 8\n",
       "Act...</td><td>http://www.101coo...</td></tr>\n",
       "<tr><td></td><td>2004-11-10</td><td>Nancy Silverton&#x27;s...</td><td>http://www.101coo...</td><td>2 1/2 cups plus 2...</td><td>Graham Cracker Re...</td><td></td><td></td><td>http://www.101coo...</td></tr>\n",
       "</table>\n",
       "only showing top 20 rows\n"
      ],
      "text/plain": [
       "+--------+-------------+--------------------+--------------------+--------------------+--------------------+--------+--------------------+--------------------+\n",
       "|cookTime|datePublished|         description|               image|         ingredients|                name|prepTime|         recipeYield|                 url|\n",
       "+--------+-------------+--------------------+--------------------+--------------------+--------------------+--------+--------------------+--------------------+\n",
       "|        |   2009-07-06|From the Big Sur ...|http://www.101coo...|5 cups all-purpos...|Big Sur Bakery Hi...|        |                    |http://www.101coo...|\n",
       "|   PT30M|   2009-08-27|An old-fashioned ...|http://www.101coo...|1 cup plus 2 tabl...|Old-Fashioned Blu...|   PT10M|     Serves  8 - 10.|http://www.101coo...|\n",
       "|   PT60M|   2009-10-25|An apple and carr...|http://www.101coo...|1/4 cup / 2 ounce...|Apple and Carrot ...|   PT10M|                    |http://www.101coo...|\n",
       "|   PT15M|   2009-11-15|Rustic orange-sce...|http://www.101coo...|3 cups whole whea...|Orange and Oat Sc...|   PT10M|                    |http://www.101coo...|\n",
       "|   PT10M|   2009-12-04|I made these for ...|http://www.101coo...|1/2 cup / 3.5 oz ...|Sparkling Ginger ...|   PT30M|                    |http://www.101coo...|\n",
       "|        |   2009-12-09|This olive oil fl...|http://www.101coo...|4 1/2 cups / 1 lb...|Seeded Flatbread ...|        |                    |http://www.101coo...|\n",
       "|   PT45M|   2010-03-10|These jammy, fig-...|http://www.101coo...|Dry mix:\n",
       "1 cup / ...|Figgy Buckwheat S...|  PT100M|                    |http://www.101coo...|\n",
       "|   PT25M|   2010-03-30|These muffins are...|http://www.101coo...|butter to grease ...|       Lucia Muffins|   PT20M|Makes 10 - 12 muf...|http://www.101coo...|\n",
       "|   PT60M|   2010-04-10|Dense, gooey choc...|http://www.101coo...|butter for greasi...|Chocolate Cherry ...|  PT900M|                    |http://www.101coo...|\n",
       "|   PT60M|   2010-04-24|A rustic, minimal...|http://www.101coo...|butter to grease ...|Quinoa Skillet Bread|   PT10M|Makes one 10 1/2 ...|http://www.101coo...|\n",
       "|   PT40M|   2010-05-04|A simple spring c...|http://www.101coo...|butter for greasi...|Strawberry Rhubar...|   PT20M|                    |http://www.101coo...|\n",
       "|   PT15M|   2010-05-14|Cookies made from...|http://www.101coo...|3/4 cup / 3.5 oz ...|Quinoa Cloud Cookies|   PT60M|                    |http://www.101coo...|\n",
       "|   PT45M|   2010-05-23|A cake I made for...|http://www.101coo...|Olive oil for the...|Rosemary Olive Oi...|   PT15M|                    |http://www.101coo...|\n",
       "|   PT50M|   2010-06-27|Certainly not the...|http://www.101coo...|zest of one lemon...| Chocolate Loaf Cake|   PT15M|Makes 8 - 10 slices.|http://www.101coo...|\n",
       "|   PT40M|   2010-05-31|Inspired by Hugh ...|http://www.101coo...|2 1/2 tablespoons...|Six-seed Soda Bre...|   PT10M|                    |http://www.101coo...|\n",
       "|        |   2003-05-27|101 Cookbooks: Pe...|http://www.101coo...|Salt\n",
       "One 35-ounce...|                    |        |                    |http://www.101coo...|\n",
       "|        |   2003-06-29|101 Cookbooks: Sc...|http://www.101coo...|6 ounces Scharffe...|Scharffen Berger ...|        |                    |http://www.101coo...|\n",
       "|        |   2004-09-06|101 Cookbooks: Ch...|http://www.101coo...|1 lb. Jacob's Cat...|Chocolate Calypso...|        |                    |http://www.101coo...|\n",
       "|        |   2004-10-20|101 Cookbooks: Ap...|http://www.101coo...|3 tablespoons all...|    Apple Pie Recipe|        |Serves 6 to 8\n",
       "Act...|http://www.101coo...|\n",
       "|        |   2004-11-10|Nancy Silverton's...|http://www.101coo...|2 1/2 cups plus 2...|Graham Cracker Re...|        |                    |http://www.101coo...|\n",
       "+--------+-------------+--------------------+--------------------+--------------------+--------------------+--------+--------------------+--------------------+\n",
       "only showing top 20 rows"
      ]
     },
     "execution_count": 15,
     "metadata": {},
     "output_type": "execute_result"
    }
   ],
   "source": [
    "spark.sql(\"SELECT * FROM raw WHERE CAST(recipeYield AS INT) IS NULL\")"
   ]
  },
  {
   "cell_type": "markdown",
   "metadata": {},
   "source": [
    "### Almost half of 'recipeYield' values are not possible to cast to integer\n",
    "\n",
    "Analyzing the dataset, this column can sometimes have a sentence that describes the recipe's yields, or even does not have any info at all. For this absence of info, I can consider a null value, for the other ones, it is better to further the column analysis."
   ]
  },
  {
   "cell_type": "code",
   "execution_count": 16,
   "metadata": {},
   "outputs": [
    {
     "name": "stdout",
     "output_type": "stream",
     "text": [
      "+-----------------------------------------------------------------------------------------------------------------------------------------------------------------------------------------------------------------------------------------------------------------------------------------------------------------------------------------------------------------------------------------------------------------------------------------------------------------------------------------------------------------------------------------------------------------------------------------------------------------------------------------------------------------------------------------------------------------------------------------------------------------------------------------------------------------------------------------------------------------------------------------------------------------------------------------------------------------------------------------------------------------------------------------------------------------------------------------------------------------------------------------------------------------------------------------------------------------------------------------------------------------------------------------------------------------------------------------------------------------------------------------------------------------------------------------------------------------------------------------------------------------------------------------------------------------------------------------------------------------------------------------------------------------------------------------------------------------------------------------------------------------------------------------------------------------------------------------------------------------------------------------------------------------------------------------------------------------------------------------------------------------------------------------------------------------------------------------------------------------------------------------------------------------------------------------------------------------------------------------------------------------------------------------------------------------------------------------------------------------------------------------------------------------------------------------------------------------------------------------------------------------------------------------------------------------------------------------------------------------------------------------------------------------------------------------------------------------------------------------------------------------------------------------------------------------------------------+\n",
      "|recipeYield                                                                                                                                                                                                                                                                                                                                                                                                                                                                                                                                                                                                                                                                                                                                                                                                                                                                                                                                                                                                                                                                                                                                                                                                                                                                                                                                                                                                                                                                                                                                                                                                                                                                                                                                                                                                                                                                                                                                                                                                                                                                                                                                                                                                                                                                                                                                                                                                                                                                                                                                                                                                                                                                                                                                                                                                                        |\n",
      "+-----------------------------------------------------------------------------------------------------------------------------------------------------------------------------------------------------------------------------------------------------------------------------------------------------------------------------------------------------------------------------------------------------------------------------------------------------------------------------------------------------------------------------------------------------------------------------------------------------------------------------------------------------------------------------------------------------------------------------------------------------------------------------------------------------------------------------------------------------------------------------------------------------------------------------------------------------------------------------------------------------------------------------------------------------------------------------------------------------------------------------------------------------------------------------------------------------------------------------------------------------------------------------------------------------------------------------------------------------------------------------------------------------------------------------------------------------------------------------------------------------------------------------------------------------------------------------------------------------------------------------------------------------------------------------------------------------------------------------------------------------------------------------------------------------------------------------------------------------------------------------------------------------------------------------------------------------------------------------------------------------------------------------------------------------------------------------------------------------------------------------------------------------------------------------------------------------------------------------------------------------------------------------------------------------------------------------------------------------------------------------------------------------------------------------------------------------------------------------------------------------------------------------------------------------------------------------------------------------------------------------------------------------------------------------------------------------------------------------------------------------------------------------------------------------------------------------------+\n",
      "|Serves  8 - 10.                                                                                                                                                                                                                                                                                                                                                                                                                                                                                                                                                                                                                                                                                                                                                                                                                                                                                                                                                                                                                                                                                                                                                                                                                                                                                                                                                                                                                                                                                                                                                                                                                                                                                                                                                                                                                                                                                                                                                                                                                                                                                                                                                                                                                                                                                                                                                                                                                                                                                                                                                                                                                                                                                                                                                                                                                    |\n",
      "|Makes 10 - 12 muffins (12 in the Lodge cast iron muffin pans)...                                                                                                                                                                                                                                                                                                                                                                                                                                                                                                                                                                                                                                                                                                                                                                                                                                                                                                                                                                                                                                                                                                                                                                                                                                                                                                                                                                                                                                                                                                                                                                                                                                                                                                                                                                                                                                                                                                                                                                                                                                                                                                                                                                                                                                                                                                                                                                                                                                                                                                                                                                                                                                                                                                                                                                   |\n",
      "|Makes one 10 1/2 skillet.                                                                                                                                                                                                                                                                                                                                                                                                                                                                                                                                                                                                                                                                                                                                                                                                                                                                                                                                                                                                                                                                                                                                                                                                                                                                                                                                                                                                                                                                                                                                                                                                                                                                                                                                                                                                                                                                                                                                                                                                                                                                                                                                                                                                                                                                                                                                                                                                                                                                                                                                                                                                                                                                                                                                                                                                          |\n",
      "|Makes 8 - 10 slices.                                                                                                                                                                                                                                                                                                                                                                                                                                                                                                                                                                                                                                                                                                                                                                                                                                                                                                                                                                                                                                                                                                                                                                                                                                                                                                                                                                                                                                                                                                                                                                                                                                                                                                                                                                                                                                                                                                                                                                                                                                                                                                                                                                                                                                                                                                                                                                                                                                                                                                                                                                                                                                                                                                                                                                                                               |\n",
      "|Serves 6 to 8\n",
      "Active time: 40 minutes\n",
      "Start to finish: 5 1/2 hours (includes making dough and cooling)Put a large baking sheet on middle oven rack and preheat oven to 425F.Whisk together flour, zest, cinnamon, allspice, salt, and 2/3 cup sugar in a large bowl. Gently toss with apples and lemon juice.Roll out 1 piece of dough (keep remaining piece chilled) on a lightly floured surface with a lightly floured rolling pin into a 13-inch round. Fit it into a 9-inch pie plate. Trim edge, leaving a 1/2-inch overhang. Refrigerate while you roll out dough for top crust.Roll out remaining piece of dough on lightly floured surface into an 11-inch round.Spoon filling into shell. Cover pie with pastry round and trim with kitchen shears, leaving 1/2-inch overhang. Press edges together, then crimp decoratively. Lightly brush top of pie with egg and sprinkle all over with remaining 1 tablespoon sugar.  With a small sharp knife, cut 3 vents in top crust.Bake Pie on hot baking sheet for 20 minutes. Reduce oven temperature to 375F and continue to bake until crust is golden and filling is bubbling, about 40 minutes more. Cool pie on a rack to warm or room temperature, 2 to 3 hours.Makes enough for a single crust 9-inch pie or a 9- to 11-inch tart, or for a double crust 9-inch pie.\n",
      "Active time: 10 minutes\n",
      "Start to finish: 1 1/4 hours (includes chilling)For a single crust pie or a tartFor a double-crust pieBlend together flour, butter, shortening, and salt in a bowl with your fingers or a pastry blender (or pulse in a food processor) just until mixture resembles coarse meal with some small (roughly pea sized) lumps of butter. For a single crust pie or tart, drizzle 3 tablespoons ice water evenly over mixture and gently stir with a fork (or pulse) until incorporated.Squeeze a small handful of dough: if it doesn't hold together, ad more ice water 1/2 tablespoon at a time, stirring or pulsing until incorporated. Do not overwork dough or pastry will be tough.Turn dough out onto a work surface. For a single-crust pie or tart, divide into 4 portions; for a double-crust pie, divide into 8 portions. With heel of your hand, smear each portion once or twice in a forward motion to help distribute fat. Gather all dough together, with a pastry scraper if you have one. For single-crust pie or tart, press into a ball, then flatten into a 5-inch disk. For a double-crust pie, divide in half, and then flatten each into a 5-inch disk. If dough is sticky, dust lightly with additional flour. Wrap each disk in plastic wrap and refrigerate until firm, at least one hour.Cook's note: \n",
      "The dough can be refrigerated for up to 1 day.From The Gourmet Cookbook edited by Ruth Reichl (Houghton Mifflin Company, 2004)Print Recipe|\n",
      "|Makes 12 canneles.                                                                                                                                                                                                                                                                                                                                                                                                                                                                                                                                                                                                                                                                                                                                                                                                                                                                                                                                                                                                                                                                                                                                                                                                                                                                                                                                                                                                                                                                                                                                                                                                                                                                                                                                                                                                                                                                                                                                                                                                                                                                                                                                                                                                                                                                                                                                                                                                                                                                                                                                                                                                                                                                                                                                                                                                                 |\n",
      "|Serves 4 to 6.                                                                                                                                                                                                                                                                                                                                                                                                                                                                                                                                                                                                                                                                                                                                                                                                                                                                                                                                                                                                                                                                                                                                                                                                                                                                                                                                                                                                                                                                                                                                                                                                                                                                                                                                                                                                                                                                                                                                                                                                                                                                                                                                                                                                                                                                                                                                                                                                                                                                                                                                                                                                                                                                                                                                                                                                                     |\n",
      "|Makes about 6 side servings.                                                                                                                                                                                                                                                                                                                                                                                                                                                                                                                                                                                                                                                                                                                                                                                                                                                                                                                                                                                                                                                                                                                                                                                                                                                                                                                                                                                                                                                                                                                                                                                                                                                                                                                                                                                                                                                                                                                                                                                                                                                                                                                                                                                                                                                                                                                                                                                                                                                                                                                                                                                                                                                                                                                                                                                                       |\n",
      "|Serves 8 as a first course, or 4 to 6 as a main course.                                                                                                                                                                                                                                                                                                                                                                                                                                                                                                                                                                                                                                                                                                                                                                                                                                                                                                                                                                                                                                                                                                                                                                                                                                                                                                                                                                                                                                                                                                                                                                                                                                                                                                                                                                                                                                                                                                                                                                                                                                                                                                                                                                                                                                                                                                                                                                                                                                                                                                                                                                                                                                                                                                                                                                            |\n",
      "|Serves 4.                                                                                                                                                                                                                                                                                                                                                                                                                                                                                                                                                                                                                                                                                                                                                                                                                                                                                                                                                                                                                                                                                                                                                                                                                                                                                                                                                                                                                                                                                                                                                                                                                                                                                                                                                                                                                                                                                                                                                                                                                                                                                                                                                                                                                                                                                                                                                                                                                                                                                                                                                                                                                                                                                                                                                                                                                          |\n",
      "|Makes 9 scones.                                                                                                                                                                                                                                                                                                                                                                                                                                                                                                                                                                                                                                                                                                                                                                                                                                                                                                                                                                                                                                                                                                                                                                                                                                                                                                                                                                                                                                                                                                                                                                                                                                                                                                                                                                                                                                                                                                                                                                                                                                                                                                                                                                                                                                                                                                                                                                                                                                                                                                                                                                                                                                                                                                                                                                                                                    |\n",
      "|Serves  6 - 8.                                                                                                                                                                                                                                                                                                                                                                                                                                                                                                                                                                                                                                                                                                                                                                                                                                                                                                                                                                                                                                                                                                                                                                                                                                                                                                                                                                                                                                                                                                                                                                                                                                                                                                                                                                                                                                                                                                                                                                                                                                                                                                                                                                                                                                                                                                                                                                                                                                                                                                                                                                                                                                                                                                                                                                                                                     |\n",
      "|Makes about 2 dozen small rice balls.                                                                                                                                                                                                                                                                                                                                                                                                                                                                                                                                                                                                                                                                                                                                                                                                                                                                                                                                                                                                                                                                                                                                                                                                                                                                                                                                                                                                                                                                                                                                                                                                                                                                                                                                                                                                                                                                                                                                                                                                                                                                                                                                                                                                                                                                                                                                                                                                                                                                                                                                                                                                                                                                                                                                                                                              |\n",
      "|Serves 2-3 as a main.                                                                                                                                                                                                                                                                                                                                                                                                                                                                                                                                                                                                                                                                                                                                                                                                                                                                                                                                                                                                                                                                                                                                                                                                                                                                                                                                                                                                                                                                                                                                                                                                                                                                                                                                                                                                                                                                                                                                                                                                                                                                                                                                                                                                                                                                                                                                                                                                                                                                                                                                                                                                                                                                                                                                                                                                              |\n",
      "|Serves about 6-8.                                                                                                                                                                                                                                                                                                                                                                                                                                                                                                                                                                                                                                                                                                                                                                                                                                                                                                                                                                                                                                                                                                                                                                                                                                                                                                                                                                                                                                                                                                                                                                                                                                                                                                                                                                                                                                                                                                                                                                                                                                                                                                                                                                                                                                                                                                                                                                                                                                                                                                                                                                                                                                                                                                                                                                                                                  |\n",
      "|Serves 6 (or so) as a side.                                                                                                                                                                                                                                                                                                                                                                                                                                                                                                                                                                                                                                                                                                                                                                                                                                                                                                                                                                                                                                                                                                                                                                                                                                                                                                                                                                                                                                                                                                                                                                                                                                                                                                                                                                                                                                                                                                                                                                                                                                                                                                                                                                                                                                                                                                                                                                                                                                                                                                                                                                                                                                                                                                                                                                                                        |\n",
      "|Serves 2 - 4                                                                                                                                                                                                                                                                                                                                                                                                                                                                                                                                                                                                                                                                                                                                                                                                                                                                                                                                                                                                                                                                                                                                                                                                                                                                                                                                                                                                                                                                                                                                                                                                                                                                                                                                                                                                                                                                                                                                                                                                                                                                                                                                                                                                                                                                                                                                                                                                                                                                                                                                                                                                                                                                                                                                                                                                                       |\n",
      "|Makes 4-6 servings.                                                                                                                                                                                                                                                                                                                                                                                                                                                                                                                                                                                                                                                                                                                                                                                                                                                                                                                                                                                                                                                                                                                                                                                                                                                                                                                                                                                                                                                                                                                                                                                                                                                                                                                                                                                                                                                                                                                                                                                                                                                                                                                                                                                                                                                                                                                                                                                                                                                                                                                                                                                                                                                                                                                                                                                                                |\n",
      "|Makes about 6 servings.                                                                                                                                                                                                                                                                                                                                                                                                                                                                                                                                                                                                                                                                                                                                                                                                                                                                                                                                                                                                                                                                                                                                                                                                                                                                                                                                                                                                                                                                                                                                                                                                                                                                                                                                                                                                                                                                                                                                                                                                                                                                                                                                                                                                                                                                                                                                                                                                                                                                                                                                                                                                                                                                                                                                                                                                            |\n",
      "|Serves 4 I Braising Time: about 1 1/2 hours.                                                                                                                                                                                                                                                                                                                                                                                                                                                                                                                                                                                                                                                                                                                                                                                                                                                                                                                                                                                                                                                                                                                                                                                                                                                                                                                                                                                                                                                                                                                                                                                                                                                                                                                                                                                                                                                                                                                                                                                                                                                                                                                                                                                                                                                                                                                                                                                                                                                                                                                                                                                                                                                                                                                                                                                       |\n",
      "+-----------------------------------------------------------------------------------------------------------------------------------------------------------------------------------------------------------------------------------------------------------------------------------------------------------------------------------------------------------------------------------------------------------------------------------------------------------------------------------------------------------------------------------------------------------------------------------------------------------------------------------------------------------------------------------------------------------------------------------------------------------------------------------------------------------------------------------------------------------------------------------------------------------------------------------------------------------------------------------------------------------------------------------------------------------------------------------------------------------------------------------------------------------------------------------------------------------------------------------------------------------------------------------------------------------------------------------------------------------------------------------------------------------------------------------------------------------------------------------------------------------------------------------------------------------------------------------------------------------------------------------------------------------------------------------------------------------------------------------------------------------------------------------------------------------------------------------------------------------------------------------------------------------------------------------------------------------------------------------------------------------------------------------------------------------------------------------------------------------------------------------------------------------------------------------------------------------------------------------------------------------------------------------------------------------------------------------------------------------------------------------------------------------------------------------------------------------------------------------------------------------------------------------------------------------------------------------------------------------------------------------------------------------------------------------------------------------------------------------------------------------------------------------------------------------------------------------+\n",
      "only showing top 20 rows\n",
      "\n"
     ]
    }
   ],
   "source": [
    "spark.sql(\"SELECT recipeYield FROM raw WHERE CAST(recipeYield AS INT) IS NULL AND length(recipeYield) > 0\").show(20, False)"
   ]
  },
  {
   "cell_type": "markdown",
   "metadata": {},
   "source": [
    "There is no good way to infer an integer value to 'recipeYield' value"
   ]
  },
  {
   "cell_type": "markdown",
   "metadata": {},
   "source": [
    "### Validating if 'cookTime' and 'prepTime' can be converted to integer"
   ]
  },
  {
   "cell_type": "code",
   "execution_count": 17,
   "metadata": {},
   "outputs": [
    {
     "data": {
      "text/html": [
       "<table border='1'>\n",
       "<tr><th>cookTime</th></tr>\n",
       "<tr><td>PT2M</td></tr>\n",
       "<tr><td>PT9M</td></tr>\n",
       "<tr><td>PT22M</td></tr>\n",
       "<tr><td>PT55M</td></tr>\n",
       "<tr><td>PT15M</td></tr>\n",
       "<tr><td>PT1H</td></tr>\n",
       "<tr><td>PT5M</td></tr>\n",
       "<tr><td>PT1H10M</td></tr>\n",
       "<tr><td>PT6M</td></tr>\n",
       "<tr><td>PT8M</td></tr>\n",
       "<tr><td>PT3M</td></tr>\n",
       "<tr><td>PT</td></tr>\n",
       "<tr><td>PT18M</td></tr>\n",
       "<tr><td>PT40M</td></tr>\n",
       "<tr><td>PT20M</td></tr>\n",
       "<tr><td>PT1H15M</td></tr>\n",
       "<tr><td>PT6H</td></tr>\n",
       "<tr><td>PT23M</td></tr>\n",
       "<tr><td>PT60M</td></tr>\n",
       "<tr><td>PT12M</td></tr>\n",
       "</table>\n",
       "only showing top 20 rows\n"
      ],
      "text/plain": [
       "+--------+\n",
       "|cookTime|\n",
       "+--------+\n",
       "|    PT2M|\n",
       "|    PT9M|\n",
       "|   PT22M|\n",
       "|   PT55M|\n",
       "|   PT15M|\n",
       "|    PT1H|\n",
       "|    PT5M|\n",
       "| PT1H10M|\n",
       "|    PT6M|\n",
       "|    PT8M|\n",
       "|    PT3M|\n",
       "|      PT|\n",
       "|   PT18M|\n",
       "|   PT40M|\n",
       "|   PT20M|\n",
       "| PT1H15M|\n",
       "|    PT6H|\n",
       "|   PT23M|\n",
       "|   PT60M|\n",
       "|   PT12M|\n",
       "+--------+\n",
       "only showing top 20 rows"
      ]
     },
     "execution_count": 17,
     "metadata": {},
     "output_type": "execute_result"
    }
   ],
   "source": [
    "spark.sql(\"SELECT distinct cookTime FROM raw\")"
   ]
  },
  {
   "cell_type": "code",
   "execution_count": 18,
   "metadata": {},
   "outputs": [
    {
     "data": {
      "text/html": [
       "<table border='1'>\n",
       "<tr><th>prepTime</th></tr>\n",
       "<tr><td>PT2M</td></tr>\n",
       "<tr><td>PT15M</td></tr>\n",
       "<tr><td>PT1H</td></tr>\n",
       "<tr><td>PT24H</td></tr>\n",
       "<tr><td>PT950M</td></tr>\n",
       "<tr><td>PT5M</td></tr>\n",
       "<tr><td>PT6M</td></tr>\n",
       "<tr><td>PT3M</td></tr>\n",
       "<tr><td>PT</td></tr>\n",
       "<tr><td>PT1M</td></tr>\n",
       "<tr><td>PT40M</td></tr>\n",
       "<tr><td>PT20M</td></tr>\n",
       "<tr><td>PT6H</td></tr>\n",
       "<tr><td>PT1H15M</td></tr>\n",
       "<tr><td>PT60M</td></tr>\n",
       "<tr><td>PT4H</td></tr>\n",
       "<tr><td>PT18H</td></tr>\n",
       "<tr><td>PT900M</td></tr>\n",
       "<tr><td>PT65M</td></tr>\n",
       "<tr><td>PT35M</td></tr>\n",
       "</table>\n",
       "only showing top 20 rows\n"
      ],
      "text/plain": [
       "+--------+\n",
       "|prepTime|\n",
       "+--------+\n",
       "|    PT2M|\n",
       "|   PT15M|\n",
       "|    PT1H|\n",
       "|   PT24H|\n",
       "|  PT950M|\n",
       "|    PT5M|\n",
       "|    PT6M|\n",
       "|    PT3M|\n",
       "|      PT|\n",
       "|    PT1M|\n",
       "|   PT40M|\n",
       "|   PT20M|\n",
       "|    PT6H|\n",
       "| PT1H15M|\n",
       "|   PT60M|\n",
       "|    PT4H|\n",
       "|   PT18H|\n",
       "|  PT900M|\n",
       "|   PT65M|\n",
       "|   PT35M|\n",
       "+--------+\n",
       "only showing top 20 rows"
      ]
     },
     "execution_count": 18,
     "metadata": {},
     "output_type": "execute_result"
    }
   ],
   "source": [
    "spark.sql(\"SELECT distinct prepTime FROM raw\")"
   ]
  },
  {
   "cell_type": "code",
   "execution_count": 19,
   "metadata": {},
   "outputs": [
    {
     "data": {
      "text/html": [
       "<table border='1'>\n",
       "<tr><th>source</th><th>prepTime RLIKE PT(?:d+H)?(?:d+M)?</th><th>count(1)</th></tr>\n",
       "<tr><td>prepTime</td><td>true</td><td>739</td></tr>\n",
       "<tr><td>cookTime</td><td>true</td><td>716</td></tr>\n",
       "<tr><td>prepTime</td><td>false</td><td>303</td></tr>\n",
       "<tr><td>cookTime</td><td>false</td><td>326</td></tr>\n",
       "</table>\n"
      ],
      "text/plain": [
       "+--------+---------------------------------+--------+\n",
       "|  source|prepTime RLIKE PT(?:d+H)?(?:d+M)?|count(1)|\n",
       "+--------+---------------------------------+--------+\n",
       "|prepTime|                             true|     739|\n",
       "|cookTime|                             true|     716|\n",
       "|prepTime|                            false|     303|\n",
       "|cookTime|                            false|     326|\n",
       "+--------+---------------------------------+--------+"
      ]
     },
     "execution_count": 19,
     "metadata": {},
     "output_type": "execute_result"
    }
   ],
   "source": [
    "spark.sql(r\"\"\"\n",
    "    SELECT 'prepTime' AS source, prepTime RLIKE 'PT(?:\\d+H)?(?:\\d+M)?', count(1) FROM raw GROUP BY 1, 2\n",
    "    UNION  \n",
    "    SELECT 'cookTime' AS source, cookTime RLIKE 'PT(?:\\d+H)?(?:\\d+M)?', count(1) FROM raw GROUP BY 1, 2\n",
    "\"\"\")"
   ]
  },
  {
   "cell_type": "markdown",
   "metadata": {},
   "source": [
    "Both of these columns are usually on **PT(\\d+H)?(\\d+M)?** pattern, which indicates hours and minutes to prepare or cook a dish. \n",
    "\n",
    "- Visiting some recipes on Pioneer Woman website, the absence of a time info indicates that a dish does not need to be cooked or prepared.\n",
    "- Visiting some recipes on 101 Cookbooks website, the absence of a time info does not necessary indicates a the dish does not need to be cooked or prepared. It can indicate just the absence of the info at all."
   ]
  },
  {
   "cell_type": "code",
   "execution_count": 20,
   "metadata": {},
   "outputs": [
    {
     "data": {
      "text/html": [
       "<table border='1'>\n",
       "<tr><th>domain</th><th>source</th><th>prepTime RLIKE PT(?:d+H)?(?:d+M)?</th><th>count(1)</th></tr>\n",
       "<tr><td>101cookbooks.com</td><td>cookTime</td><td>true</td><td>177</td></tr>\n",
       "<tr><td>101cookbooks.com</td><td>cookTime</td><td>false</td><td>326</td></tr>\n",
       "<tr><td>101cookbooks.com</td><td>prepTime</td><td>false</td><td>303</td></tr>\n",
       "<tr><td>101cookbooks.com</td><td>prepTime</td><td>true</td><td>200</td></tr>\n",
       "<tr><td>thepioneerwoman.com</td><td>cookTime</td><td>true</td><td>539</td></tr>\n",
       "<tr><td>thepioneerwoman.com</td><td>prepTime</td><td>true</td><td>539</td></tr>\n",
       "</table>\n"
      ],
      "text/plain": [
       "+-------------------+--------+---------------------------------+--------+\n",
       "|             domain|  source|prepTime RLIKE PT(?:d+H)?(?:d+M)?|count(1)|\n",
       "+-------------------+--------+---------------------------------+--------+\n",
       "|   101cookbooks.com|cookTime|                             true|     177|\n",
       "|   101cookbooks.com|cookTime|                            false|     326|\n",
       "|   101cookbooks.com|prepTime|                            false|     303|\n",
       "|   101cookbooks.com|prepTime|                             true|     200|\n",
       "|thepioneerwoman.com|cookTime|                             true|     539|\n",
       "|thepioneerwoman.com|prepTime|                             true|     539|\n",
       "+-------------------+--------+---------------------------------+--------+"
      ]
     },
     "execution_count": 20,
     "metadata": {},
     "output_type": "execute_result"
    }
   ],
   "source": [
    "spark.sql(r\"\"\"\n",
    "    SELECT regexp_extract(url, '^(?:https?:\\/\\/)?(?:[^@\\/\\n]+@)?(?:www\\.)?([^:\\/?\\n]+)', 1) AS domain, 'prepTime' AS source, prepTime RLIKE 'PT(?:\\d+H)?(?:\\d+M)?', count(1) FROM raw GROUP BY 1, 2, 3\n",
    "    UNION  \n",
    "    SELECT regexp_extract(url, '^(?:https?:\\/\\/)?(?:[^@\\/\\n]+@)?(?:www\\.)?([^:\\/?\\n]+)', 1) AS domain, 'cookTime' AS source, cookTime RLIKE 'PT(?:\\d+H)?(?:\\d+M)?', count(1) FROM raw GROUP BY 1, 2, 3\n",
    "    ORDER BY 1, 2\n",
    "\"\"\")"
   ]
  },
  {
   "cell_type": "markdown",
   "metadata": {},
   "source": [
    "This pattern can be used to fully convert the time columns of Pioneer Woman website, but only partially from 101 Cookbooks website"
   ]
  },
  {
   "cell_type": "code",
   "execution_count": 21,
   "metadata": {},
   "outputs": [
    {
     "name": "stdout",
     "output_type": "stream",
     "text": [
      "+-----+-----------------------------------------------------------------------------------------------------------------------------------------------------------------------------------------+\n",
      "|test |collect_list(source)                                                                                                                                                                     |\n",
      "+-----+-----------------------------------------------------------------------------------------------------------------------------------------------------------------------------------------+\n",
      "|true |[PT2M, PT15M, PT950M, PT5M, PT8M, PT3M, PT40M, PT20M, PT60M, PT50M, PT900M, PT65M, PT70M, PT35M, PT100M, PT150M, PT180M, PT245M, PT90M, PT240M, PT45M, PT10M, PT30M, PT25M, PT120M, PT7M]|\n",
      "|false|[]                                                                                                                                                                                       |\n",
      "+-----+-----------------------------------------------------------------------------------------------------------------------------------------------------------------------------------------+\n",
      "\n"
     ]
    }
   ],
   "source": [
    "spark.sql(r\"\"\"\n",
    "    SELECT source RLIKE '(PT(?:\\d+H)?(?:\\d+M)?)' AS test, collect_list(source)\n",
    "    FROM (\n",
    "        SELECT prepTime AS source FROM raw \n",
    "        WHERE regexp_extract(url, '^(?:https?:\\/\\/)?(?:[^@\\/\\n]+@)?(?:www\\.)?([^:\\/?\\n]+)', 1) = '101cookbooks.com'\n",
    "        UNION\n",
    "        SELECT cookTime AS source FROM raw \n",
    "        WHERE regexp_extract(url, '^(?:https?:\\/\\/)?(?:[^@\\/\\n]+@)?(?:www\\.)?([^:\\/?\\n]+)', 1) = '101cookbooks.com'\n",
    "    ) \n",
    "    GROUP BY 1\n",
    "\"\"\").show(2, False)"
   ]
  },
  {
   "cell_type": "code",
   "execution_count": 22,
   "metadata": {},
   "outputs": [
    {
     "data": {
      "text/html": [
       "<table border='1'>\n",
       "<tr><th>source</th><th>count(1)</th></tr>\n",
       "<tr><td></td><td>629</td></tr>\n",
       "<tr><td>PT10M</td><td>105</td></tr>\n",
       "<tr><td>PT5M</td><td>67</td></tr>\n",
       "<tr><td>PT15M</td><td>38</td></tr>\n",
       "<tr><td>PT20M</td><td>35</td></tr>\n",
       "<tr><td>PT30M</td><td>24</td></tr>\n",
       "<tr><td>PT60M</td><td>23</td></tr>\n",
       "<tr><td>PT45M</td><td>17</td></tr>\n",
       "<tr><td>PT25M</td><td>15</td></tr>\n",
       "<tr><td>PT40M</td><td>8</td></tr>\n",
       "<tr><td>PT35M</td><td>6</td></tr>\n",
       "<tr><td>PT120M</td><td>5</td></tr>\n",
       "<tr><td>PT50M</td><td>4</td></tr>\n",
       "<tr><td>PT180M</td><td>4</td></tr>\n",
       "<tr><td>PT3M</td><td>4</td></tr>\n",
       "<tr><td>PT240M</td><td>4</td></tr>\n",
       "<tr><td>PT70M</td><td>3</td></tr>\n",
       "<tr><td>PT7M</td><td>3</td></tr>\n",
       "<tr><td>PT100M</td><td>2</td></tr>\n",
       "<tr><td>PT90M</td><td>2</td></tr>\n",
       "</table>\n",
       "only showing top 20 rows\n"
      ],
      "text/plain": [
       "+------+--------+\n",
       "|source|count(1)|\n",
       "+------+--------+\n",
       "|      |     629|\n",
       "| PT10M|     105|\n",
       "|  PT5M|      67|\n",
       "| PT15M|      38|\n",
       "| PT20M|      35|\n",
       "| PT30M|      24|\n",
       "| PT60M|      23|\n",
       "| PT45M|      17|\n",
       "| PT25M|      15|\n",
       "| PT40M|       8|\n",
       "| PT35M|       6|\n",
       "|PT120M|       5|\n",
       "|PT180M|       4|\n",
       "|PT240M|       4|\n",
       "|  PT3M|       4|\n",
       "| PT50M|       4|\n",
       "| PT70M|       3|\n",
       "|  PT7M|       3|\n",
       "| PT90M|       2|\n",
       "|  PT2M|       2|\n",
       "+------+--------+\n",
       "only showing top 20 rows"
      ]
     },
     "execution_count": 22,
     "metadata": {},
     "output_type": "execute_result"
    }
   ],
   "source": [
    "spark.sql(r\"\"\"\n",
    "    SELECT source, count(1)\n",
    "    FROM (\n",
    "        SELECT prepTime AS source FROM raw \n",
    "        WHERE regexp_extract(url, '^(?:https?:\\/\\/)?(?:[^@\\/\\n]+@)?(?:www\\.)?([^:\\/?\\n]+)', 1) = '101cookbooks.com'\n",
    "        UNION ALL\n",
    "        SELECT cookTime AS source FROM raw \n",
    "        WHERE regexp_extract(url, '^(?:https?:\\/\\/)?(?:[^@\\/\\n]+@)?(?:www\\.)?([^:\\/?\\n]+)', 1) = '101cookbooks.com'\n",
    "    ) \n",
    "    GROUP BY 1\n",
    "    ORDER BY 2 DESC\n",
    "\"\"\")"
   ]
  },
  {
   "cell_type": "markdown",
   "metadata": {},
   "source": [
    "### Implementing function to convert  'PT(?:\\d+H)?(?:\\d+M)?' pattern to minutes with integer type"
   ]
  },
  {
   "cell_type": "code",
   "execution_count": 23,
   "metadata": {},
   "outputs": [],
   "source": [
    "def cast_pt_time_to_minutes_integer(col):\n",
    "    hours = coalesce(regexp_extract(col, r'(\\d+)H', 1).cast('int'), lit(0))\n",
    "    minutes = coalesce(regexp_extract(col, r'(\\d+)M', 1).cast('int'), lit(0))\n",
    "    return hours * 60 + minutes"
   ]
  },
  {
   "cell_type": "code",
   "execution_count": 24,
   "metadata": {},
   "outputs": [
    {
     "data": {
      "text/html": [
       "<table border='1'>\n",
       "<tr><th>cookTime</th><th>datePublished</th><th>description</th><th>image</th><th>ingredients</th><th>name</th><th>prepTime</th><th>recipeYield</th><th>url</th></tr>\n",
       "<tr><td>0</td><td>2013-04-01</td><td>Got leftover East...</td><td>http://static.the...</td><td>12 whole Hard Boi...</td><td>Easter Leftover S...</td><td>15</td><td>8</td><td>http://thepioneer...</td></tr>\n",
       "<tr><td>10</td><td>2011-06-06</td><td>I finally have ba...</td><td>http://static.the...</td><td>3/4 cups Fresh Ba...</td><td>Pasta with Pesto ...</td><td>6</td><td>8</td><td>http://thepioneer...</td></tr>\n",
       "<tr><td>15</td><td>2011-09-15</td><td>This was yummy. A...</td><td>http://static.the...</td><td>2 whole Pork Tend...</td><td>Herb Roasted Pork...</td><td>5</td><td>12</td><td>http://thepioneer...</td></tr>\n",
       "<tr><td>20</td><td>2012-04-23</td><td>I made this for a...</td><td>http://static.the...</td><td>1 pound Penne\n",
       "4 w...</td><td>Chicken Florentin...</td><td>10</td><td>10</td><td>http://thepioneer...</td></tr>\n",
       "<tr><td>0</td><td>2011-06-13</td><td>Iced coffee is my...</td><td>http://static.the...</td><td>1 pound Ground Co...</td><td>Perfect Iced Coffee</td><td>480</td><td>24</td><td>http://thepioneer...</td></tr>\n",
       "<tr><td>10</td><td>2012-05-31</td><td>When I was in Alb...</td><td>http://static.the...</td><td>1 whole Onion, Di...</td><td>Easy Green Chile ...</td><td>5</td><td>4</td><td>http://thepioneer...</td></tr>\n",
       "<tr><td>5</td><td>2013-03-25</td><td>Imagine the Easte...</td><td>http://static.the...</td><td>4 Tablespoons But...</td><td>Krispy Easter Eggs</td><td>20</td><td>12</td><td>http://thepioneer...</td></tr>\n",
       "<tr><td>25</td><td>2012-08-06</td><td>Who doesn&#x27;t love ...</td><td>http://static.the...</td><td>1 stick Butter\n",
       "1 ...</td><td>Patty Melts</td><td>10</td><td>4</td><td>http://thepioneer...</td></tr>\n",
       "<tr><td>2</td><td>2012-08-10</td><td>Note from PW: On ...</td><td>http://static.the...</td><td> Doughnuts\n",
       "1-1/8 ...</td><td>Yum. Doughnuts!</td><td>25</td><td>18</td><td>http://thepioneer...</td></tr>\n",
       "<tr><td>15</td><td>2012-08-01</td><td>This is just a qu...</td><td>http://static.the...</td><td>1 pound Pasta (fe...</td><td>Buttery Lemon Par...</td><td>5</td><td>8</td><td>http://thepioneer...</td></tr>\n",
       "<tr><td>75</td><td>2012-08-13</td><td>There&#x27;s nothing s...</td><td>http://static.the...</td><td>1 whole Chicken, ...</td><td>Roast Chicken</td><td>10</td><td>4</td><td>http://thepioneer...</td></tr>\n",
       "<tr><td>60</td><td>2012-08-18</td><td>On this morning&#x27;s...</td><td>http://static.the...</td><td> FRENCH TOAST\n",
       " Bu...</td><td>Baked French Toast</td><td>15</td><td>8</td><td>http://thepioneer...</td></tr>\n",
       "<tr><td>10</td><td>2012-08-15</td><td>I love slice-and-...</td><td>http://static.the...</td><td>2-1/2 cups All-pu...</td><td>Yummy Slice-and-B...</td><td>15</td><td>30</td><td>http://thepioneer...</td></tr>\n",
       "<tr><td>20</td><td>2012-08-20</td><td>I love grilled ve...</td><td>http://static.the...</td><td>6 whole Zucchini ...</td><td>Yummy Grilled Zuc...</td><td>30</td><td>8</td><td>http://thepioneer...</td></tr>\n",
       "<tr><td>10</td><td>2012-08-29</td><td>When we went to V...</td><td>http://static.the...</td><td>16 whole Graham C...</td><td>Chocolate Covered...</td><td>20</td><td>8</td><td>http://thepioneer...</td></tr>\n",
       "<tr><td>5</td><td>2012-08-22</td><td>I love compound b...</td><td>http://static.the...</td><td> HOTEL BUTTER\n",
       "2 s...</td><td>T-Bone Steaks wit...</td><td>20</td><td>4</td><td>http://thepioneer...</td></tr>\n",
       "<tr><td>0</td><td>2012-08-31</td><td> I&#x27;ve got Mango M...</td><td>http://static.the...</td><td>2 whole Limes\n",
       "2 T...</td><td>Mango Margaritas!</td><td>10</td><td>8</td><td>http://thepioneer...</td></tr>\n",
       "<tr><td>45</td><td>2012-01-04</td><td>I&#x27;m Pioneer Woman...</td><td>http://static.the...</td><td>5 cloves Garlic, ...</td><td>Tuscan Bean Soup ...</td><td>10</td><td>8</td><td>http://thepioneer...</td></tr>\n",
       "<tr><td>60</td><td>2011-12-30</td><td>I&#x27;m not a big bel...</td><td>http://static.the...</td><td>4 Tablespoons But...</td><td>Hoppin’ John</td><td>360</td><td>10</td><td>http://thepioneer...</td></tr>\n",
       "<tr><td>15</td><td>2012-01-11</td><td>I would like to s...</td><td>http://static.the...</td><td>8 whole Everythin...</td><td>Turkey Bagel Burger</td><td>10</td><td>8</td><td>http://thepioneer...</td></tr>\n",
       "</table>\n",
       "only showing top 20 rows\n"
      ],
      "text/plain": [
       "+--------+-------------+--------------------+--------------------+--------------------+--------------------+--------+-----------+--------------------+\n",
       "|cookTime|datePublished|         description|               image|         ingredients|                name|prepTime|recipeYield|                 url|\n",
       "+--------+-------------+--------------------+--------------------+--------------------+--------------------+--------+-----------+--------------------+\n",
       "|       0|   2013-04-01|Got leftover East...|http://static.the...|12 whole Hard Boi...|Easter Leftover S...|      15|          8|http://thepioneer...|\n",
       "|      10|   2011-06-06|I finally have ba...|http://static.the...|3/4 cups Fresh Ba...|Pasta with Pesto ...|       6|          8|http://thepioneer...|\n",
       "|      15|   2011-09-15|This was yummy. A...|http://static.the...|2 whole Pork Tend...|Herb Roasted Pork...|       5|         12|http://thepioneer...|\n",
       "|      20|   2012-04-23|I made this for a...|http://static.the...|1 pound Penne\n",
       "4 w...|Chicken Florentin...|      10|         10|http://thepioneer...|\n",
       "|       0|   2011-06-13|Iced coffee is my...|http://static.the...|1 pound Ground Co...| Perfect Iced Coffee|     480|         24|http://thepioneer...|\n",
       "|      10|   2012-05-31|When I was in Alb...|http://static.the...|1 whole Onion, Di...|Easy Green Chile ...|       5|          4|http://thepioneer...|\n",
       "|       5|   2013-03-25|Imagine the Easte...|http://static.the...|4 Tablespoons But...|  Krispy Easter Eggs|      20|         12|http://thepioneer...|\n",
       "|      25|   2012-08-06|Who doesn't love ...|http://static.the...|1 stick Butter\n",
       "1 ...|         Patty Melts|      10|          4|http://thepioneer...|\n",
       "|       2|   2012-08-10|Note from PW: On ...|http://static.the...| Doughnuts\n",
       "1-1/8 ...|     Yum. Doughnuts!|      25|         18|http://thepioneer...|\n",
       "|      15|   2012-08-01|This is just a qu...|http://static.the...|1 pound Pasta (fe...|Buttery Lemon Par...|       5|          8|http://thepioneer...|\n",
       "|      75|   2012-08-13|There's nothing s...|http://static.the...|1 whole Chicken, ...|       Roast Chicken|      10|          4|http://thepioneer...|\n",
       "|      60|   2012-08-18|On this morning's...|http://static.the...| FRENCH TOAST\n",
       " Bu...|  Baked French Toast|      15|          8|http://thepioneer...|\n",
       "|      10|   2012-08-15|I love slice-and-...|http://static.the...|2-1/2 cups All-pu...|Yummy Slice-and-B...|      15|         30|http://thepioneer...|\n",
       "|      20|   2012-08-20|I love grilled ve...|http://static.the...|6 whole Zucchini ...|Yummy Grilled Zuc...|      30|          8|http://thepioneer...|\n",
       "|      10|   2012-08-29|When we went to V...|http://static.the...|16 whole Graham C...|Chocolate Covered...|      20|          8|http://thepioneer...|\n",
       "|       5|   2012-08-22|I love compound b...|http://static.the...| HOTEL BUTTER\n",
       "2 s...|T-Bone Steaks wit...|      20|          4|http://thepioneer...|\n",
       "|       0|   2012-08-31| I've got Mango M...|http://static.the...|2 whole Limes\n",
       "2 T...|   Mango Margaritas!|      10|          8|http://thepioneer...|\n",
       "|      45|   2012-01-04|I'm Pioneer Woman...|http://static.the...|5 cloves Garlic, ...|Tuscan Bean Soup ...|      10|          8|http://thepioneer...|\n",
       "|      60|   2011-12-30|I'm not a big bel...|http://static.the...|4 Tablespoons But...|        Hoppin’ John|     360|         10|http://thepioneer...|\n",
       "|      15|   2012-01-11|I would like to s...|http://static.the...|8 whole Everythin...| Turkey Bagel Burger|      10|          8|http://thepioneer...|\n",
       "+--------+-------------+--------------------+--------------------+--------------------+--------------------+--------+-----------+--------------------+\n",
       "only showing top 20 rows"
      ]
     },
     "execution_count": 24,
     "metadata": {},
     "output_type": "execute_result"
    }
   ],
   "source": [
    "test_df = input_df\n",
    "\n",
    "for columnName in ['cookTime', 'prepTime']:\n",
    "    test_df = test_df.withColumn(columnName, cast_pt_time_to_minutes_integer(col(columnName)))\n",
    "    \n",
    "test_df"
   ]
  },
  {
   "cell_type": "markdown",
   "metadata": {},
   "source": [
    "This function extracts hour and minutes from the columns and sum them with the result in minutes. When there is absence of a value, the extraction returns 0. But for the 101 Cookbook, a 0 is considered to be null if both columns (prepTime and cookTime) are 0."
   ]
  },
  {
   "cell_type": "markdown",
   "metadata": {},
   "source": [
    "This demonstrates that there are different rules for each website, so there is a need to split the data source by domain"
   ]
  },
  {
   "cell_type": "markdown",
   "metadata": {},
   "source": [
    "### Splitting the data source based on website"
   ]
  },
  {
   "cell_type": "code",
   "execution_count": 25,
   "metadata": {},
   "outputs": [
    {
     "data": {
      "text/html": [
       "<table border='1'>\n",
       "<tr><th>regexp_extract(url, ^(?:https?://)?(?:[^@/\n",
       "]+@)?(?:www.)?([^:/?\n",
       "]+), 1)</th></tr>\n",
       "<tr><td>thepioneerwoman.com</td></tr>\n",
       "<tr><td>101cookbooks.com</td></tr>\n",
       "</table>\n"
      ],
      "text/plain": [
       "+-----------------------------------------------------------------------+\n",
       "|regexp_extract(url, ^(?:https?://)?(?:[^@/\n",
       "]+@)?(?:www.)?([^:/?\n",
       "]+), 1)|\n",
       "+-----------------------------------------------------------------------+\n",
       "|                                                    thepioneerwoman.com|\n",
       "|                                                       101cookbooks.com|\n",
       "+-----------------------------------------------------------------------+"
      ]
     },
     "execution_count": 25,
     "metadata": {},
     "output_type": "execute_result"
    }
   ],
   "source": [
    "spark.sql(\"SELECT distinct regexp_extract(url, '^(?:https?:\\/\\/)?(?:[^@\\/\\n]+@)?(?:www\\.)?([^:\\/?\\n]+)', 1) FROM raw\")"
   ]
  },
  {
   "cell_type": "markdown",
   "metadata": {},
   "source": [
    "In this data source, as identified two websites: thepioneerwoman.com and 101cookbooks.com. Based on these values, I can split the dataset into two dataframes."
   ]
  },
  {
   "cell_type": "code",
   "execution_count": 26,
   "metadata": {},
   "outputs": [],
   "source": [
    "input_df = input_df.withColumn('url_domain', regexp_extract(input_df.url, r'^(?:https?:\\/\\/)?(?:[^@\\/\\n]+@)?(?:www\\.)?([^:\\/?\\n]+)', 1))\n",
    "\n",
    "pioneer_woman_df = input_df.filter(input_df.url_domain.like('%thepioneerwoman.com')).drop('url_domain')\n",
    "cook_books_df = input_df.filter(input_df.url_domain.like('%101cookbooks.com')).drop('url_domain')"
   ]
  },
  {
   "cell_type": "code",
   "execution_count": 27,
   "metadata": {},
   "outputs": [
    {
     "data": {
      "text/html": [
       "<table border='1'>\n",
       "<tr><th>cookTime</th><th>datePublished</th><th>description</th><th>image</th><th>ingredients</th><th>name</th><th>prepTime</th><th>recipeYield</th><th>url</th></tr>\n",
       "<tr><td>PT</td><td>2013-04-01</td><td>Got leftover East...</td><td>http://static.the...</td><td>12 whole Hard Boi...</td><td>Easter Leftover S...</td><td>PT15M</td><td>8</td><td>http://thepioneer...</td></tr>\n",
       "<tr><td>PT10M</td><td>2011-06-06</td><td>I finally have ba...</td><td>http://static.the...</td><td>3/4 cups Fresh Ba...</td><td>Pasta with Pesto ...</td><td>PT6M</td><td>8</td><td>http://thepioneer...</td></tr>\n",
       "<tr><td>PT15M</td><td>2011-09-15</td><td>This was yummy. A...</td><td>http://static.the...</td><td>2 whole Pork Tend...</td><td>Herb Roasted Pork...</td><td>PT5M</td><td>12</td><td>http://thepioneer...</td></tr>\n",
       "<tr><td>PT20M</td><td>2012-04-23</td><td>I made this for a...</td><td>http://static.the...</td><td>1 pound Penne\n",
       "4 w...</td><td>Chicken Florentin...</td><td>PT10M</td><td>10</td><td>http://thepioneer...</td></tr>\n",
       "<tr><td>PT</td><td>2011-06-13</td><td>Iced coffee is my...</td><td>http://static.the...</td><td>1 pound Ground Co...</td><td>Perfect Iced Coffee</td><td>PT8H</td><td>24</td><td>http://thepioneer...</td></tr>\n",
       "<tr><td>PT10M</td><td>2012-05-31</td><td>When I was in Alb...</td><td>http://static.the...</td><td>1 whole Onion, Di...</td><td>Easy Green Chile ...</td><td>PT5M</td><td>4</td><td>http://thepioneer...</td></tr>\n",
       "<tr><td>PT5M</td><td>2013-03-25</td><td>Imagine the Easte...</td><td>http://static.the...</td><td>4 Tablespoons But...</td><td>Krispy Easter Eggs</td><td>PT20M</td><td>12</td><td>http://thepioneer...</td></tr>\n",
       "<tr><td>PT25M</td><td>2012-08-06</td><td>Who doesn&#x27;t love ...</td><td>http://static.the...</td><td>1 stick Butter\n",
       "1 ...</td><td>Patty Melts</td><td>PT10M</td><td>4</td><td>http://thepioneer...</td></tr>\n",
       "<tr><td>PT2M</td><td>2012-08-10</td><td>Note from PW: On ...</td><td>http://static.the...</td><td> Doughnuts\n",
       "1-1/8 ...</td><td>Yum. Doughnuts!</td><td>PT25M</td><td>18</td><td>http://thepioneer...</td></tr>\n",
       "<tr><td>PT15M</td><td>2012-08-01</td><td>This is just a qu...</td><td>http://static.the...</td><td>1 pound Pasta (fe...</td><td>Buttery Lemon Par...</td><td>PT5M</td><td>8</td><td>http://thepioneer...</td></tr>\n",
       "<tr><td>PT1H15M</td><td>2012-08-13</td><td>There&#x27;s nothing s...</td><td>http://static.the...</td><td>1 whole Chicken, ...</td><td>Roast Chicken</td><td>PT10M</td><td>4</td><td>http://thepioneer...</td></tr>\n",
       "<tr><td>PT1H</td><td>2012-08-18</td><td>On this morning&#x27;s...</td><td>http://static.the...</td><td> FRENCH TOAST\n",
       " Bu...</td><td>Baked French Toast</td><td>PT15M</td><td>8</td><td>http://thepioneer...</td></tr>\n",
       "<tr><td>PT10M</td><td>2012-08-15</td><td>I love slice-and-...</td><td>http://static.the...</td><td>2-1/2 cups All-pu...</td><td>Yummy Slice-and-B...</td><td>PT15M</td><td>30</td><td>http://thepioneer...</td></tr>\n",
       "<tr><td>PT20M</td><td>2012-08-20</td><td>I love grilled ve...</td><td>http://static.the...</td><td>6 whole Zucchini ...</td><td>Yummy Grilled Zuc...</td><td>PT30M</td><td>8</td><td>http://thepioneer...</td></tr>\n",
       "<tr><td>PT10M</td><td>2012-08-29</td><td>When we went to V...</td><td>http://static.the...</td><td>16 whole Graham C...</td><td>Chocolate Covered...</td><td>PT20M</td><td>8</td><td>http://thepioneer...</td></tr>\n",
       "<tr><td>PT5M</td><td>2012-08-22</td><td>I love compound b...</td><td>http://static.the...</td><td> HOTEL BUTTER\n",
       "2 s...</td><td>T-Bone Steaks wit...</td><td>PT20M</td><td>4</td><td>http://thepioneer...</td></tr>\n",
       "<tr><td>PT</td><td>2012-08-31</td><td> I&#x27;ve got Mango M...</td><td>http://static.the...</td><td>2 whole Limes\n",
       "2 T...</td><td>Mango Margaritas!</td><td>PT10M</td><td>8</td><td>http://thepioneer...</td></tr>\n",
       "<tr><td>PT45M</td><td>2012-01-04</td><td>I&#x27;m Pioneer Woman...</td><td>http://static.the...</td><td>5 cloves Garlic, ...</td><td>Tuscan Bean Soup ...</td><td>PT10M</td><td>8</td><td>http://thepioneer...</td></tr>\n",
       "<tr><td>PT1H</td><td>2011-12-30</td><td>I&#x27;m not a big bel...</td><td>http://static.the...</td><td>4 Tablespoons But...</td><td>Hoppin’ John</td><td>PT6H</td><td>10</td><td>http://thepioneer...</td></tr>\n",
       "<tr><td>PT15M</td><td>2012-01-11</td><td>I would like to s...</td><td>http://static.the...</td><td>8 whole Everythin...</td><td>Turkey Bagel Burger</td><td>PT10M</td><td>8</td><td>http://thepioneer...</td></tr>\n",
       "</table>\n",
       "only showing top 20 rows\n"
      ],
      "text/plain": [
       "+--------+-------------+--------------------+--------------------+--------------------+--------------------+--------+-----------+--------------------+\n",
       "|cookTime|datePublished|         description|               image|         ingredients|                name|prepTime|recipeYield|                 url|\n",
       "+--------+-------------+--------------------+--------------------+--------------------+--------------------+--------+-----------+--------------------+\n",
       "|      PT|   2013-04-01|Got leftover East...|http://static.the...|12 whole Hard Boi...|Easter Leftover S...|   PT15M|          8|http://thepioneer...|\n",
       "|   PT10M|   2011-06-06|I finally have ba...|http://static.the...|3/4 cups Fresh Ba...|Pasta with Pesto ...|    PT6M|          8|http://thepioneer...|\n",
       "|   PT15M|   2011-09-15|This was yummy. A...|http://static.the...|2 whole Pork Tend...|Herb Roasted Pork...|    PT5M|         12|http://thepioneer...|\n",
       "|   PT20M|   2012-04-23|I made this for a...|http://static.the...|1 pound Penne\n",
       "4 w...|Chicken Florentin...|   PT10M|         10|http://thepioneer...|\n",
       "|      PT|   2011-06-13|Iced coffee is my...|http://static.the...|1 pound Ground Co...| Perfect Iced Coffee|    PT8H|         24|http://thepioneer...|\n",
       "|   PT10M|   2012-05-31|When I was in Alb...|http://static.the...|1 whole Onion, Di...|Easy Green Chile ...|    PT5M|          4|http://thepioneer...|\n",
       "|    PT5M|   2013-03-25|Imagine the Easte...|http://static.the...|4 Tablespoons But...|  Krispy Easter Eggs|   PT20M|         12|http://thepioneer...|\n",
       "|   PT25M|   2012-08-06|Who doesn't love ...|http://static.the...|1 stick Butter\n",
       "1 ...|         Patty Melts|   PT10M|          4|http://thepioneer...|\n",
       "|    PT2M|   2012-08-10|Note from PW: On ...|http://static.the...| Doughnuts\n",
       "1-1/8 ...|     Yum. Doughnuts!|   PT25M|         18|http://thepioneer...|\n",
       "|   PT15M|   2012-08-01|This is just a qu...|http://static.the...|1 pound Pasta (fe...|Buttery Lemon Par...|    PT5M|          8|http://thepioneer...|\n",
       "| PT1H15M|   2012-08-13|There's nothing s...|http://static.the...|1 whole Chicken, ...|       Roast Chicken|   PT10M|          4|http://thepioneer...|\n",
       "|    PT1H|   2012-08-18|On this morning's...|http://static.the...| FRENCH TOAST\n",
       " Bu...|  Baked French Toast|   PT15M|          8|http://thepioneer...|\n",
       "|   PT10M|   2012-08-15|I love slice-and-...|http://static.the...|2-1/2 cups All-pu...|Yummy Slice-and-B...|   PT15M|         30|http://thepioneer...|\n",
       "|   PT20M|   2012-08-20|I love grilled ve...|http://static.the...|6 whole Zucchini ...|Yummy Grilled Zuc...|   PT30M|          8|http://thepioneer...|\n",
       "|   PT10M|   2012-08-29|When we went to V...|http://static.the...|16 whole Graham C...|Chocolate Covered...|   PT20M|          8|http://thepioneer...|\n",
       "|    PT5M|   2012-08-22|I love compound b...|http://static.the...| HOTEL BUTTER\n",
       "2 s...|T-Bone Steaks wit...|   PT20M|          4|http://thepioneer...|\n",
       "|      PT|   2012-08-31| I've got Mango M...|http://static.the...|2 whole Limes\n",
       "2 T...|   Mango Margaritas!|   PT10M|          8|http://thepioneer...|\n",
       "|   PT45M|   2012-01-04|I'm Pioneer Woman...|http://static.the...|5 cloves Garlic, ...|Tuscan Bean Soup ...|   PT10M|          8|http://thepioneer...|\n",
       "|    PT1H|   2011-12-30|I'm not a big bel...|http://static.the...|4 Tablespoons But...|        Hoppin’ John|    PT6H|         10|http://thepioneer...|\n",
       "|   PT15M|   2012-01-11|I would like to s...|http://static.the...|8 whole Everythin...| Turkey Bagel Burger|   PT10M|          8|http://thepioneer...|\n",
       "+--------+-------------+--------------------+--------------------+--------------------+--------------------+--------+-----------+--------------------+\n",
       "only showing top 20 rows"
      ]
     },
     "execution_count": 27,
     "metadata": {},
     "output_type": "execute_result"
    }
   ],
   "source": [
    "pioneer_woman_df"
   ]
  },
  {
   "cell_type": "code",
   "execution_count": 28,
   "metadata": {},
   "outputs": [
    {
     "data": {
      "text/html": [
       "<table border='1'>\n",
       "<tr><th>cookTime</th><th>datePublished</th><th>description</th><th>image</th><th>ingredients</th><th>name</th><th>prepTime</th><th>recipeYield</th><th>url</th></tr>\n",
       "<tr><td></td><td>2009-07-06</td><td>From the Big Sur ...</td><td>http://www.101coo...</td><td>5 cups all-purpos...</td><td>Big Sur Bakery Hi...</td><td></td><td></td><td>http://www.101coo...</td></tr>\n",
       "<tr><td>PT30M</td><td>2009-08-27</td><td>An old-fashioned ...</td><td>http://www.101coo...</td><td>1 cup plus 2 tabl...</td><td>Old-Fashioned Blu...</td><td>PT10M</td><td>Serves  8 - 10.</td><td>http://www.101coo...</td></tr>\n",
       "<tr><td>PT60M</td><td>2009-10-25</td><td>An apple and carr...</td><td>http://www.101coo...</td><td>1/4 cup / 2 ounce...</td><td>Apple and Carrot ...</td><td>PT10M</td><td></td><td>http://www.101coo...</td></tr>\n",
       "<tr><td>PT15M</td><td>2009-11-15</td><td>Rustic orange-sce...</td><td>http://www.101coo...</td><td>3 cups whole whea...</td><td>Orange and Oat Sc...</td><td>PT10M</td><td></td><td>http://www.101coo...</td></tr>\n",
       "<tr><td>PT10M</td><td>2009-12-04</td><td>I made these for ...</td><td>http://www.101coo...</td><td>1/2 cup / 3.5 oz ...</td><td>Sparkling Ginger ...</td><td>PT30M</td><td></td><td>http://www.101coo...</td></tr>\n",
       "<tr><td></td><td>2009-12-09</td><td>This olive oil fl...</td><td>http://www.101coo...</td><td>4 1/2 cups / 1 lb...</td><td>Seeded Flatbread ...</td><td></td><td></td><td>http://www.101coo...</td></tr>\n",
       "<tr><td>PT45M</td><td>2010-03-10</td><td>These jammy, fig-...</td><td>http://www.101coo...</td><td>Dry mix:\n",
       "1 cup / ...</td><td>Figgy Buckwheat S...</td><td>PT100M</td><td></td><td>http://www.101coo...</td></tr>\n",
       "<tr><td>PT25M</td><td>2010-03-30</td><td>These muffins are...</td><td>http://www.101coo...</td><td>butter to grease ...</td><td>Lucia Muffins</td><td>PT20M</td><td>Makes 10 - 12 muf...</td><td>http://www.101coo...</td></tr>\n",
       "<tr><td>PT60M</td><td>2010-04-10</td><td>Dense, gooey choc...</td><td>http://www.101coo...</td><td>butter for greasi...</td><td>Chocolate Cherry ...</td><td>PT900M</td><td></td><td>http://www.101coo...</td></tr>\n",
       "<tr><td>PT60M</td><td>2010-04-24</td><td>A rustic, minimal...</td><td>http://www.101coo...</td><td>butter to grease ...</td><td>Quinoa Skillet Bread</td><td>PT10M</td><td>Makes one 10 1/2 ...</td><td>http://www.101coo...</td></tr>\n",
       "<tr><td>PT40M</td><td>2010-05-04</td><td>A simple spring c...</td><td>http://www.101coo...</td><td>butter for greasi...</td><td>Strawberry Rhubar...</td><td>PT20M</td><td></td><td>http://www.101coo...</td></tr>\n",
       "<tr><td>PT15M</td><td>2010-05-14</td><td>Cookies made from...</td><td>http://www.101coo...</td><td>3/4 cup / 3.5 oz ...</td><td>Quinoa Cloud Cookies</td><td>PT60M</td><td></td><td>http://www.101coo...</td></tr>\n",
       "<tr><td>PT45M</td><td>2010-05-23</td><td>A cake I made for...</td><td>http://www.101coo...</td><td>Olive oil for the...</td><td>Rosemary Olive Oi...</td><td>PT15M</td><td></td><td>http://www.101coo...</td></tr>\n",
       "<tr><td>PT50M</td><td>2010-06-27</td><td>Certainly not the...</td><td>http://www.101coo...</td><td>zest of one lemon...</td><td>Chocolate Loaf Cake</td><td>PT15M</td><td>Makes 8 - 10 slices.</td><td>http://www.101coo...</td></tr>\n",
       "<tr><td>PT40M</td><td>2010-05-31</td><td>Inspired by Hugh ...</td><td>http://www.101coo...</td><td>2 1/2 tablespoons...</td><td>Six-seed Soda Bre...</td><td>PT10M</td><td></td><td>http://www.101coo...</td></tr>\n",
       "<tr><td></td><td>2003-05-27</td><td>101 Cookbooks: Pe...</td><td>http://www.101coo...</td><td>Salt\n",
       "One 35-ounce...</td><td></td><td></td><td></td><td>http://www.101coo...</td></tr>\n",
       "<tr><td></td><td>2003-06-29</td><td>101 Cookbooks: Sc...</td><td>http://www.101coo...</td><td>6 ounces Scharffe...</td><td>Scharffen Berger ...</td><td></td><td></td><td>http://www.101coo...</td></tr>\n",
       "<tr><td></td><td>2004-09-06</td><td>101 Cookbooks: Ch...</td><td>http://www.101coo...</td><td>1 lb. Jacob&#x27;s Cat...</td><td>Chocolate Calypso...</td><td></td><td></td><td>http://www.101coo...</td></tr>\n",
       "<tr><td></td><td>2004-10-20</td><td>101 Cookbooks: Ap...</td><td>http://www.101coo...</td><td>3 tablespoons all...</td><td>Apple Pie Recipe</td><td></td><td>Serves 6 to 8\n",
       "Act...</td><td>http://www.101coo...</td></tr>\n",
       "<tr><td></td><td>2004-11-10</td><td>Nancy Silverton&#x27;s...</td><td>http://www.101coo...</td><td>2 1/2 cups plus 2...</td><td>Graham Cracker Re...</td><td></td><td></td><td>http://www.101coo...</td></tr>\n",
       "</table>\n",
       "only showing top 20 rows\n"
      ],
      "text/plain": [
       "+--------+-------------+--------------------+--------------------+--------------------+--------------------+--------+--------------------+--------------------+\n",
       "|cookTime|datePublished|         description|               image|         ingredients|                name|prepTime|         recipeYield|                 url|\n",
       "+--------+-------------+--------------------+--------------------+--------------------+--------------------+--------+--------------------+--------------------+\n",
       "|        |   2009-07-06|From the Big Sur ...|http://www.101coo...|5 cups all-purpos...|Big Sur Bakery Hi...|        |                    |http://www.101coo...|\n",
       "|   PT30M|   2009-08-27|An old-fashioned ...|http://www.101coo...|1 cup plus 2 tabl...|Old-Fashioned Blu...|   PT10M|     Serves  8 - 10.|http://www.101coo...|\n",
       "|   PT60M|   2009-10-25|An apple and carr...|http://www.101coo...|1/4 cup / 2 ounce...|Apple and Carrot ...|   PT10M|                    |http://www.101coo...|\n",
       "|   PT15M|   2009-11-15|Rustic orange-sce...|http://www.101coo...|3 cups whole whea...|Orange and Oat Sc...|   PT10M|                    |http://www.101coo...|\n",
       "|   PT10M|   2009-12-04|I made these for ...|http://www.101coo...|1/2 cup / 3.5 oz ...|Sparkling Ginger ...|   PT30M|                    |http://www.101coo...|\n",
       "|        |   2009-12-09|This olive oil fl...|http://www.101coo...|4 1/2 cups / 1 lb...|Seeded Flatbread ...|        |                    |http://www.101coo...|\n",
       "|   PT45M|   2010-03-10|These jammy, fig-...|http://www.101coo...|Dry mix:\n",
       "1 cup / ...|Figgy Buckwheat S...|  PT100M|                    |http://www.101coo...|\n",
       "|   PT25M|   2010-03-30|These muffins are...|http://www.101coo...|butter to grease ...|       Lucia Muffins|   PT20M|Makes 10 - 12 muf...|http://www.101coo...|\n",
       "|   PT60M|   2010-04-10|Dense, gooey choc...|http://www.101coo...|butter for greasi...|Chocolate Cherry ...|  PT900M|                    |http://www.101coo...|\n",
       "|   PT60M|   2010-04-24|A rustic, minimal...|http://www.101coo...|butter to grease ...|Quinoa Skillet Bread|   PT10M|Makes one 10 1/2 ...|http://www.101coo...|\n",
       "|   PT40M|   2010-05-04|A simple spring c...|http://www.101coo...|butter for greasi...|Strawberry Rhubar...|   PT20M|                    |http://www.101coo...|\n",
       "|   PT15M|   2010-05-14|Cookies made from...|http://www.101coo...|3/4 cup / 3.5 oz ...|Quinoa Cloud Cookies|   PT60M|                    |http://www.101coo...|\n",
       "|   PT45M|   2010-05-23|A cake I made for...|http://www.101coo...|Olive oil for the...|Rosemary Olive Oi...|   PT15M|                    |http://www.101coo...|\n",
       "|   PT50M|   2010-06-27|Certainly not the...|http://www.101coo...|zest of one lemon...| Chocolate Loaf Cake|   PT15M|Makes 8 - 10 slices.|http://www.101coo...|\n",
       "|   PT40M|   2010-05-31|Inspired by Hugh ...|http://www.101coo...|2 1/2 tablespoons...|Six-seed Soda Bre...|   PT10M|                    |http://www.101coo...|\n",
       "|        |   2003-05-27|101 Cookbooks: Pe...|http://www.101coo...|Salt\n",
       "One 35-ounce...|                    |        |                    |http://www.101coo...|\n",
       "|        |   2003-06-29|101 Cookbooks: Sc...|http://www.101coo...|6 ounces Scharffe...|Scharffen Berger ...|        |                    |http://www.101coo...|\n",
       "|        |   2004-09-06|101 Cookbooks: Ch...|http://www.101coo...|1 lb. Jacob's Cat...|Chocolate Calypso...|        |                    |http://www.101coo...|\n",
       "|        |   2004-10-20|101 Cookbooks: Ap...|http://www.101coo...|3 tablespoons all...|    Apple Pie Recipe|        |Serves 6 to 8\n",
       "Act...|http://www.101coo...|\n",
       "|        |   2004-11-10|Nancy Silverton's...|http://www.101coo...|2 1/2 cups plus 2...|Graham Cracker Re...|        |                    |http://www.101coo...|\n",
       "+--------+-------------+--------------------+--------------------+--------------------+--------------------+--------+--------------------+--------------------+\n",
       "only showing top 20 rows"
      ]
     },
     "execution_count": 28,
     "metadata": {},
     "output_type": "execute_result"
    }
   ],
   "source": [
    "cook_books_df"
   ]
  },
  {
   "cell_type": "markdown",
   "metadata": {},
   "source": [
    "### Implementing domain rules for Pioneer Woman\n",
    "\n",
    "It was not identified any special rule for this half of the data source, but it is a good practice to include the *cast_pt_time_to_minutes_integer* function here, as if it was called for the whole data source, a new website could not follow the same structure."
   ]
  },
  {
   "cell_type": "code",
   "execution_count": 29,
   "metadata": {},
   "outputs": [],
   "source": [
    "def apply_pioneer_woman_rules(df):\n",
    "    for columnName in ['cookTime', 'prepTime']:\n",
    "        df = df.withColumn(columnName, cast_pt_time_to_minutes_integer(col(columnName)))\n",
    "    return df"
   ]
  },
  {
   "cell_type": "markdown",
   "metadata": {},
   "source": [
    "### Implementing domain rules for 101 Cookbook"
   ]
  },
  {
   "cell_type": "markdown",
   "metadata": {},
   "source": [
    "- If cookTime and prepTime are both 0, then they should be null"
   ]
  },
  {
   "cell_type": "code",
   "execution_count": 30,
   "metadata": {},
   "outputs": [],
   "source": [
    "def transform_cook_prepare_time(df):\n",
    "    for columnName in ['cookTime', 'prepTime']:\n",
    "        df = df.withColumn(columnName, when(col(columnName) != '', cast_pt_time_to_minutes_integer(col(columnName))))\n",
    "    return df"
   ]
  },
  {
   "cell_type": "markdown",
   "metadata": {},
   "source": [
    "- If name is empty, then it should be searched on url, description and image columns"
   ]
  },
  {
   "cell_type": "code",
   "execution_count": 31,
   "metadata": {},
   "outputs": [],
   "source": [
    "def extract_recipe_name(df):\n",
    "    def extract_recipe_name_from_url(col):\n",
    "        url_last_param = reverse(regexp_extract(reverse(col), '(?i)/?(.+?)/', 1))\n",
    "        param_without_extension_and_numbers = regexp_replace(url_last_param, r'\\d+|(?:\\..+)', '')\n",
    "        recipe_name = initcap(translate(param_without_extension_and_numbers, '-', ' '))\n",
    "        return when(param_without_extension_and_numbers != '', recipe_name)\n",
    "    \n",
    "    def extract_recipe_name_from_description(col):\n",
    "        description_extract = regexp_extract(df.description, r'101\\s+Cookbooks:\\s+((?:(?:\\w+)|(?:\\s+))+)', 1)\n",
    "        return when(description_extract != '', description_extract)\n",
    "        \n",
    "    name_from_description = extract_recipe_name_from_description(df.description)\n",
    "    name_from_url = extract_recipe_name_from_url(df.url)\n",
    "    name_from_image = extract_recipe_name_from_url(df.image)\n",
    "\n",
    "    return when(df.name != '', df.name).otherwise(coalesce(name_from_description,name_from_url,name_from_image))"
   ]
  },
  {
   "cell_type": "markdown",
   "metadata": {},
   "source": [
    "- If recipeYield has more than one line, only the first should me considered"
   ]
  },
  {
   "cell_type": "code",
   "execution_count": 32,
   "metadata": {},
   "outputs": [],
   "source": [
    "def extract_recipe_yield(col):\n",
    "    return split(col, '\\n').getItem(0)"
   ]
  },
  {
   "cell_type": "code",
   "execution_count": 33,
   "metadata": {},
   "outputs": [],
   "source": [
    "def apply_cookbooks_rules(df):\n",
    "    df = transform_cook_prepare_time(df)\n",
    "    df = df.withColumn('name', extract_recipe_name(df)).withColumn('recipeYield', extract_recipe_yield(df.recipeYield))\n",
    "    return df"
   ]
  },
  {
   "cell_type": "markdown",
   "metadata": {},
   "source": [
    "### Consolidate partitions results"
   ]
  },
  {
   "cell_type": "code",
   "execution_count": 34,
   "metadata": {},
   "outputs": [],
   "source": [
    "domain_rules = {\n",
    "    'thepioneerwoman.com': apply_pioneer_woman_rules,\n",
    "    '101cookbooks.com': apply_cookbooks_rules\n",
    "}\n",
    "\n",
    "input_df = input_df.withColumn('datePublished', input_df.datePublished.cast('date'))\n",
    "\n",
    "input_df_partitions = [\n",
    "    rule(input_df.filter(input_df.url_domain.like(f'%{url}')).drop('url_domain'))\n",
    "    for url, rule in domain_rules.items()\n",
    "]\n",
    "\n",
    "result_df = reduce(DataFrame.unionAll, input_df_partitions)"
   ]
  },
  {
   "cell_type": "code",
   "execution_count": 35,
   "metadata": {},
   "outputs": [
    {
     "data": {
      "text/html": [
       "<table border='1'>\n",
       "<tr><th>cookTime</th><th>datePublished</th><th>description</th><th>image</th><th>ingredients</th><th>name</th><th>prepTime</th><th>recipeYield</th><th>url</th></tr>\n",
       "<tr><td>0</td><td>2013-04-01</td><td>Got leftover East...</td><td>http://static.the...</td><td>12 whole Hard Boi...</td><td>Easter Leftover S...</td><td>15</td><td>8</td><td>http://thepioneer...</td></tr>\n",
       "<tr><td>10</td><td>2011-06-06</td><td>I finally have ba...</td><td>http://static.the...</td><td>3/4 cups Fresh Ba...</td><td>Pasta with Pesto ...</td><td>6</td><td>8</td><td>http://thepioneer...</td></tr>\n",
       "<tr><td>15</td><td>2011-09-15</td><td>This was yummy. A...</td><td>http://static.the...</td><td>2 whole Pork Tend...</td><td>Herb Roasted Pork...</td><td>5</td><td>12</td><td>http://thepioneer...</td></tr>\n",
       "<tr><td>20</td><td>2012-04-23</td><td>I made this for a...</td><td>http://static.the...</td><td>1 pound Penne\n",
       "4 w...</td><td>Chicken Florentin...</td><td>10</td><td>10</td><td>http://thepioneer...</td></tr>\n",
       "<tr><td>0</td><td>2011-06-13</td><td>Iced coffee is my...</td><td>http://static.the...</td><td>1 pound Ground Co...</td><td>Perfect Iced Coffee</td><td>480</td><td>24</td><td>http://thepioneer...</td></tr>\n",
       "<tr><td>10</td><td>2012-05-31</td><td>When I was in Alb...</td><td>http://static.the...</td><td>1 whole Onion, Di...</td><td>Easy Green Chile ...</td><td>5</td><td>4</td><td>http://thepioneer...</td></tr>\n",
       "<tr><td>5</td><td>2013-03-25</td><td>Imagine the Easte...</td><td>http://static.the...</td><td>4 Tablespoons But...</td><td>Krispy Easter Eggs</td><td>20</td><td>12</td><td>http://thepioneer...</td></tr>\n",
       "<tr><td>25</td><td>2012-08-06</td><td>Who doesn&#x27;t love ...</td><td>http://static.the...</td><td>1 stick Butter\n",
       "1 ...</td><td>Patty Melts</td><td>10</td><td>4</td><td>http://thepioneer...</td></tr>\n",
       "<tr><td>2</td><td>2012-08-10</td><td>Note from PW: On ...</td><td>http://static.the...</td><td> Doughnuts\n",
       "1-1/8 ...</td><td>Yum. Doughnuts!</td><td>25</td><td>18</td><td>http://thepioneer...</td></tr>\n",
       "<tr><td>15</td><td>2012-08-01</td><td>This is just a qu...</td><td>http://static.the...</td><td>1 pound Pasta (fe...</td><td>Buttery Lemon Par...</td><td>5</td><td>8</td><td>http://thepioneer...</td></tr>\n",
       "<tr><td>75</td><td>2012-08-13</td><td>There&#x27;s nothing s...</td><td>http://static.the...</td><td>1 whole Chicken, ...</td><td>Roast Chicken</td><td>10</td><td>4</td><td>http://thepioneer...</td></tr>\n",
       "<tr><td>60</td><td>2012-08-18</td><td>On this morning&#x27;s...</td><td>http://static.the...</td><td> FRENCH TOAST\n",
       " Bu...</td><td>Baked French Toast</td><td>15</td><td>8</td><td>http://thepioneer...</td></tr>\n",
       "<tr><td>10</td><td>2012-08-15</td><td>I love slice-and-...</td><td>http://static.the...</td><td>2-1/2 cups All-pu...</td><td>Yummy Slice-and-B...</td><td>15</td><td>30</td><td>http://thepioneer...</td></tr>\n",
       "<tr><td>20</td><td>2012-08-20</td><td>I love grilled ve...</td><td>http://static.the...</td><td>6 whole Zucchini ...</td><td>Yummy Grilled Zuc...</td><td>30</td><td>8</td><td>http://thepioneer...</td></tr>\n",
       "<tr><td>10</td><td>2012-08-29</td><td>When we went to V...</td><td>http://static.the...</td><td>16 whole Graham C...</td><td>Chocolate Covered...</td><td>20</td><td>8</td><td>http://thepioneer...</td></tr>\n",
       "<tr><td>5</td><td>2012-08-22</td><td>I love compound b...</td><td>http://static.the...</td><td> HOTEL BUTTER\n",
       "2 s...</td><td>T-Bone Steaks wit...</td><td>20</td><td>4</td><td>http://thepioneer...</td></tr>\n",
       "<tr><td>0</td><td>2012-08-31</td><td> I&#x27;ve got Mango M...</td><td>http://static.the...</td><td>2 whole Limes\n",
       "2 T...</td><td>Mango Margaritas!</td><td>10</td><td>8</td><td>http://thepioneer...</td></tr>\n",
       "<tr><td>45</td><td>2012-01-04</td><td>I&#x27;m Pioneer Woman...</td><td>http://static.the...</td><td>5 cloves Garlic, ...</td><td>Tuscan Bean Soup ...</td><td>10</td><td>8</td><td>http://thepioneer...</td></tr>\n",
       "<tr><td>60</td><td>2011-12-30</td><td>I&#x27;m not a big bel...</td><td>http://static.the...</td><td>4 Tablespoons But...</td><td>Hoppin’ John</td><td>360</td><td>10</td><td>http://thepioneer...</td></tr>\n",
       "<tr><td>15</td><td>2012-01-11</td><td>I would like to s...</td><td>http://static.the...</td><td>8 whole Everythin...</td><td>Turkey Bagel Burger</td><td>10</td><td>8</td><td>http://thepioneer...</td></tr>\n",
       "</table>\n",
       "only showing top 20 rows\n"
      ],
      "text/plain": [
       "+--------+-------------+--------------------+--------------------+--------------------+--------------------+--------+-----------+--------------------+\n",
       "|cookTime|datePublished|         description|               image|         ingredients|                name|prepTime|recipeYield|                 url|\n",
       "+--------+-------------+--------------------+--------------------+--------------------+--------------------+--------+-----------+--------------------+\n",
       "|       0|   2013-04-01|Got leftover East...|http://static.the...|12 whole Hard Boi...|Easter Leftover S...|      15|          8|http://thepioneer...|\n",
       "|      10|   2011-06-06|I finally have ba...|http://static.the...|3/4 cups Fresh Ba...|Pasta with Pesto ...|       6|          8|http://thepioneer...|\n",
       "|      15|   2011-09-15|This was yummy. A...|http://static.the...|2 whole Pork Tend...|Herb Roasted Pork...|       5|         12|http://thepioneer...|\n",
       "|      20|   2012-04-23|I made this for a...|http://static.the...|1 pound Penne\n",
       "4 w...|Chicken Florentin...|      10|         10|http://thepioneer...|\n",
       "|       0|   2011-06-13|Iced coffee is my...|http://static.the...|1 pound Ground Co...| Perfect Iced Coffee|     480|         24|http://thepioneer...|\n",
       "|      10|   2012-05-31|When I was in Alb...|http://static.the...|1 whole Onion, Di...|Easy Green Chile ...|       5|          4|http://thepioneer...|\n",
       "|       5|   2013-03-25|Imagine the Easte...|http://static.the...|4 Tablespoons But...|  Krispy Easter Eggs|      20|         12|http://thepioneer...|\n",
       "|      25|   2012-08-06|Who doesn't love ...|http://static.the...|1 stick Butter\n",
       "1 ...|         Patty Melts|      10|          4|http://thepioneer...|\n",
       "|       2|   2012-08-10|Note from PW: On ...|http://static.the...| Doughnuts\n",
       "1-1/8 ...|     Yum. Doughnuts!|      25|         18|http://thepioneer...|\n",
       "|      15|   2012-08-01|This is just a qu...|http://static.the...|1 pound Pasta (fe...|Buttery Lemon Par...|       5|          8|http://thepioneer...|\n",
       "|      75|   2012-08-13|There's nothing s...|http://static.the...|1 whole Chicken, ...|       Roast Chicken|      10|          4|http://thepioneer...|\n",
       "|      60|   2012-08-18|On this morning's...|http://static.the...| FRENCH TOAST\n",
       " Bu...|  Baked French Toast|      15|          8|http://thepioneer...|\n",
       "|      10|   2012-08-15|I love slice-and-...|http://static.the...|2-1/2 cups All-pu...|Yummy Slice-and-B...|      15|         30|http://thepioneer...|\n",
       "|      20|   2012-08-20|I love grilled ve...|http://static.the...|6 whole Zucchini ...|Yummy Grilled Zuc...|      30|          8|http://thepioneer...|\n",
       "|      10|   2012-08-29|When we went to V...|http://static.the...|16 whole Graham C...|Chocolate Covered...|      20|          8|http://thepioneer...|\n",
       "|       5|   2012-08-22|I love compound b...|http://static.the...| HOTEL BUTTER\n",
       "2 s...|T-Bone Steaks wit...|      20|          4|http://thepioneer...|\n",
       "|       0|   2012-08-31| I've got Mango M...|http://static.the...|2 whole Limes\n",
       "2 T...|   Mango Margaritas!|      10|          8|http://thepioneer...|\n",
       "|      45|   2012-01-04|I'm Pioneer Woman...|http://static.the...|5 cloves Garlic, ...|Tuscan Bean Soup ...|      10|          8|http://thepioneer...|\n",
       "|      60|   2011-12-30|I'm not a big bel...|http://static.the...|4 Tablespoons But...|        Hoppin’ John|     360|         10|http://thepioneer...|\n",
       "|      15|   2012-01-11|I would like to s...|http://static.the...|8 whole Everythin...| Turkey Bagel Burger|      10|          8|http://thepioneer...|\n",
       "+--------+-------------+--------------------+--------------------+--------------------+--------------------+--------+-----------+--------------------+\n",
       "only showing top 20 rows"
      ]
     },
     "execution_count": 35,
     "metadata": {},
     "output_type": "execute_result"
    }
   ],
   "source": [
    "result_df"
   ]
  },
  {
   "cell_type": "code",
   "execution_count": 36,
   "metadata": {},
   "outputs": [
    {
     "name": "stdout",
     "output_type": "stream",
     "text": [
      "root\n",
      " |-- cookTime: integer (nullable = true)\n",
      " |-- datePublished: date (nullable = true)\n",
      " |-- description: string (nullable = true)\n",
      " |-- image: string (nullable = true)\n",
      " |-- ingredients: string (nullable = true)\n",
      " |-- name: string (nullable = true)\n",
      " |-- prepTime: integer (nullable = true)\n",
      " |-- recipeYield: string (nullable = true)\n",
      " |-- url: string (nullable = true)\n",
      "\n"
     ]
    }
   ],
   "source": [
    "result_df.printSchema()"
   ]
  },
  {
   "cell_type": "code",
   "execution_count": 37,
   "metadata": {},
   "outputs": [
    {
     "data": {
      "text/html": [
       "<table border='1'>\n",
       "<tr><th>summary</th><th>cookTime</th><th>description</th><th>image</th><th>ingredients</th><th>name</th><th>prepTime</th><th>recipeYield</th><th>url</th></tr>\n",
       "<tr><td>count</td><td>716</td><td>1042</td><td>1042</td><td>1042</td><td>1042</td><td>739</td><td>1042</td><td>1042</td></tr>\n",
       "<tr><td>mean</td><td>32.65782122905028</td><td>null</td><td>null</td><td>null</td><td>null</td><td>40.53585926928282</td><td>9.738404452690167</td><td>null</td></tr>\n",
       "<tr><td>stddev</td><td>48.144380267381514</td><td>null</td><td>null</td><td>null</td><td>null</td><td>119.58444193548257</td><td>6.529901914334942</td><td>null</td></tr>\n",
       "<tr><td>min</td><td>0</td><td>      IMPORTANT: ...</td><td>http://static.the...</td><td> (Quantities Depe...</td><td>A Blast From the ...</td><td>0</td><td></td><td>http://thepioneer...</td></tr>\n",
       "<tr><td>max</td><td>540</td><td>   We just had a ...</td><td>http://www.101coo...</td><td>~1 1/2 cups (7 ou...</td><td>Zucchini Ricotta ...</td><td>1440</td><td>Serves six.</td><td>http://www.101coo...</td></tr>\n",
       "</table>\n"
      ],
      "text/plain": [
       "+-------+------------------+--------------------+--------------------+--------------------+--------------------+------------------+-----------------+--------------------+\n",
       "|summary|          cookTime|         description|               image|         ingredients|                name|          prepTime|      recipeYield|                 url|\n",
       "+-------+------------------+--------------------+--------------------+--------------------+--------------------+------------------+-----------------+--------------------+\n",
       "|  count|               716|                1042|                1042|                1042|                1042|               739|             1042|                1042|\n",
       "|   mean| 32.65782122905028|                null|                null|                null|                null| 40.53585926928282|9.738404452690167|                null|\n",
       "| stddev|48.144380267381514|                null|                null|                null|                null|119.58444193548257|6.529901914334942|                null|\n",
       "|    min|                 0|      IMPORTANT: ...|http://static.the...| (Quantities Depe...|A Blast From the ...|                 0|                 |http://thepioneer...|\n",
       "|    max|               540|   We just had a ...|http://www.101coo...|~1 1/2 cups (7 ou...|Zucchini Ricotta ...|              1440|      Serves six.|http://www.101coo...|\n",
       "+-------+------------------+--------------------+--------------------+--------------------+--------------------+------------------+-----------------+--------------------+"
      ]
     },
     "execution_count": 37,
     "metadata": {},
     "output_type": "execute_result"
    }
   ],
   "source": [
    "result_df.describe()"
   ]
  },
  {
   "cell_type": "markdown",
   "metadata": {},
   "source": [
    "### Saving result as Parquet"
   ]
  },
  {
   "cell_type": "code",
   "execution_count": 38,
   "metadata": {},
   "outputs": [],
   "source": [
    "execution_date = date.today().strftime('%Y-%m-%d')\n",
    "result_df.coalesce(20).write.parquet(f'{DEST_PATH}/execution_date={execution_date}/')\n",
    "# result_df.toPandas().to_excel('/tmp/result.xlsx')"
   ]
  },
  {
   "cell_type": "markdown",
   "metadata": {},
   "source": [
    "This file format was chosen because of the following:\n",
    "- As a compression-optimized, metadata-oriented format, it will have an advantage over plaintext formats, like JSON, CSV.\n",
    "- As a columnar format, it will have an advantage on ad-hoc queries on columns compared to Avro\n",
    "- The README from this challenge said that it was used by Kafka extraction jobs, so there is a familiarity/preference of HelloFresh, compared to ORC"
   ]
  },
  {
   "cell_type": "markdown",
   "metadata": {},
   "source": [
    "The **coalesce** method was used to reduce the possible amount of small files persisted by the write method. This method was used instead of **repartition** to prevent shuffling of data between Spark nodes, at the cost of unbalanced file sizes."
   ]
  },
  {
   "cell_type": "markdown",
   "metadata": {},
   "source": [
    "I did not partitioned the dataframe by **datePublished**, because this JSON is a dump from the table, containing historical data. Also, I forced a partition value directly on the write path, was it would be wasteful to create a new column with the execution_date and tell Spark to partition the output by it."
   ]
  },
  {
   "cell_type": "markdown",
   "metadata": {},
   "source": [
    "If the process that generates this JSON would just provide the updated/deleted/created information, instead of the entire table, I would consider using a file format that enables CRUD operations (like Apache Hudi, Apache Iceberg and Databricks DeltaLake), and partition by **datePublished** while configuring the history of the file to be kept indefinitely, at the expense of some performance."
   ]
  },
  {
   "cell_type": "markdown",
   "metadata": {},
   "source": [
    "Also, if the URL domain could be used as a partition, I would skip entirely the UNION step and persist which partition directly on the filesystem, like the following."
   ]
  },
  {
   "cell_type": "code",
   "execution_count": 39,
   "metadata": {},
   "outputs": [],
   "source": [
    "# execution_date = date.today().strftime('%Y-%m-%d')\n",
    "\n",
    "# for url, rule in domain_rules.items():\n",
    "#     result_df = rule(input_df.filter(input_df.url_domain.like(f'%{url}')).drop('url_domain'))\n",
    "#     result_df.coalesce(20).write.parquet(f'/tmp/result/execution_date={execution_date}/url_domain={url}')"
   ]
  },
  {
   "cell_type": "markdown",
   "metadata": {},
   "source": [
    "# Task 2"
   ]
  },
  {
   "cell_type": "markdown",
   "metadata": {},
   "source": [
    "### Filtering only recipes that has 'beef' as ingredient"
   ]
  },
  {
   "cell_type": "markdown",
   "metadata": {},
   "source": [
    "At first, I was only going to consider literal **beef** (ignoring case) on ingredients, but after validating that some recipes did have 'beef' on its name or description, I decided that the ingredient of these recipes should be analyzed."
   ]
  },
  {
   "cell_type": "code",
   "execution_count": 40,
   "metadata": {},
   "outputs": [],
   "source": [
    "result_df.createOrReplaceTempView('result')"
   ]
  },
  {
   "cell_type": "code",
   "execution_count": 41,
   "metadata": {},
   "outputs": [
    {
     "data": {
      "text/html": [
       "<table border='1'>\n",
       "<tr><th>count(1)</th></tr>\n",
       "<tr><td>47</td></tr>\n",
       "</table>\n"
      ],
      "text/plain": [
       "+--------+\n",
       "|count(1)|\n",
       "+--------+\n",
       "|      47|\n",
       "+--------+"
      ]
     },
     "execution_count": 41,
     "metadata": {},
     "output_type": "execute_result"
    }
   ],
   "source": [
    "spark.sql(\"\"\"\n",
    "    SELECT count(1) \n",
    "    FROM result \n",
    "    WHERE lower(ingredients) LIKE '%beef%'\n",
    "\"\"\")"
   ]
  },
  {
   "cell_type": "code",
   "execution_count": 42,
   "metadata": {},
   "outputs": [
    {
     "data": {
      "text/html": [
       "<table border='1'>\n",
       "<tr><th>count(1)</th></tr>\n",
       "<tr><td>47</td></tr>\n",
       "</table>\n"
      ],
      "text/plain": [
       "+--------+\n",
       "|count(1)|\n",
       "+--------+\n",
       "|      47|\n",
       "+--------+"
      ]
     },
     "execution_count": 42,
     "metadata": {},
     "output_type": "execute_result"
    }
   ],
   "source": [
    "spark.sql(\"\"\"\n",
    "    SELECT count(1) \n",
    "    FROM result \n",
    "    WHERE lower(ingredients) LIKE '%beef%'\n",
    "\"\"\")"
   ]
  },
  {
   "cell_type": "code",
   "execution_count": 43,
   "metadata": {},
   "outputs": [
    {
     "name": "stdout",
     "output_type": "stream",
     "text": [
      "+-------------------------------------------------------------------------+\n",
      "|url                                                                      |\n",
      "+-------------------------------------------------------------------------+\n",
      "|http://thepioneerwoman.com/cooking/2011/06/caprese-salad/                |\n",
      "|http://thepioneerwoman.com/cooking/2010/10/beef-with-snow-peas/          |\n",
      "|http://thepioneerwoman.com/cooking/2010/08/beer-braised-beef-with-onions/|\n",
      "|http://thepioneerwoman.com/cooking/2011/03/beef-with-peppers/            |\n",
      "|http://thepioneerwoman.com/cooking/2011/05/beef-noodle-salad-bowls/      |\n",
      "|http://thepioneerwoman.com/cooking/2011/02/beef-fajita-nachos/           |\n",
      "|http://thepioneerwoman.com/cooking/2010/10/chicken-cacciatore/           |\n",
      "|http://thepioneerwoman.com/cooking/2007/06/olive_cheese_br/              |\n",
      "|http://www.101cookbooks.com/archives/cracker-lasagna-recipe.html         |\n",
      "+-------------------------------------------------------------------------+\n",
      "\n"
     ]
    }
   ],
   "source": [
    "spark.sql(\"\"\"\n",
    "    SELECT url\n",
    "    FROM result \n",
    "    WHERE lower(ingredients) NOT LIKE '%beef%' \n",
    "    AND (lower(description) LIKE '%beef%' OR lower(name) LIKE '%beef%') \n",
    "\"\"\").show(10, False)"
   ]
  },
  {
   "cell_type": "markdown",
   "metadata": {},
   "source": [
    "Then I manually visited these 9 URL's to see the recipe photo and description. I turned out that some occurrences were just mentions and did not mean that the recipe had any beef. But for the four occurrences that really had a beef on the photo, the word 'steak' was on the ingredients list."
   ]
  },
  {
   "cell_type": "code",
   "execution_count": 44,
   "metadata": {},
   "outputs": [
    {
     "data": {
      "text/html": [
       "<table border='1'>\n",
       "<tr><th>ingredients</th><th>count</th></tr>\n",
       "<tr><td></td><td>8</td></tr>\n",
       "<tr><td>oil</td><td>8</td></tr>\n",
       "<tr><td>sliced</td><td>7</td></tr>\n",
       "<tr><td>whole</td><td>7</td></tr>\n",
       "<tr><td>olive</td><td>7</td></tr>\n",
       "<tr><td>pepper</td><td>6</td></tr>\n",
       "<tr><td>cup</td><td>6</td></tr>\n",
       "<tr><td>onion</td><td>5</td></tr>\n",
       "<tr><td>salt</td><td>5</td></tr>\n",
       "<tr><td>weight</td><td>5</td></tr>\n",
       "<tr><td>ounces</td><td>5</td></tr>\n",
       "<tr><td>garlic</td><td>5</td></tr>\n",
       "<tr><td>tablespoons</td><td>5</td></tr>\n",
       "<tr><td>cloves</td><td>5</td></tr>\n",
       "<tr><td>fresh</td><td>5</td></tr>\n",
       "<tr><td>teaspoon</td><td>5</td></tr>\n",
       "<tr><td>pound</td><td>5</td></tr>\n",
       "<tr><td>brown</td><td>4</td></tr>\n",
       "<tr><td>cups</td><td>4</td></tr>\n",
       "<tr><td>thin</td><td>4</td></tr>\n",
       "</table>\n",
       "only showing top 20 rows\n"
      ],
      "text/plain": [
       "+-----------+-----+\n",
       "|ingredients|count|\n",
       "+-----------+-----+\n",
       "|           |    8|\n",
       "|        oil|    8|\n",
       "|      whole|    7|\n",
       "|      olive|    7|\n",
       "|     sliced|    7|\n",
       "|        cup|    6|\n",
       "|     pepper|    6|\n",
       "|      onion|    5|\n",
       "|     weight|    5|\n",
       "|     cloves|    5|\n",
       "|   teaspoon|    5|\n",
       "|       salt|    5|\n",
       "|tablespoons|    5|\n",
       "|      fresh|    5|\n",
       "|     garlic|    5|\n",
       "|     ounces|    5|\n",
       "|      pound|    5|\n",
       "|     leaves|    4|\n",
       "|      sauce|    4|\n",
       "|       cups|    4|\n",
       "+-----------+-----+\n",
       "only showing top 20 rows"
      ]
     },
     "execution_count": 44,
     "metadata": {},
     "output_type": "execute_result"
    }
   ],
   "source": [
    "from pyspark.ml.feature import StopWordsRemover\n",
    "\n",
    "remover = StopWordsRemover(inputCol='ingredients', outputCol='final')\n",
    "\n",
    "df = spark.sql(r\"\"\"\n",
    "    SELECT split(ingredients_element, ' ') AS ingredients\n",
    "    FROM (\n",
    "        SELECT explode(split(regexp_replace(lower(ingredients), '[^a-z ]', ''), '\\n')) AS ingredients_element\n",
    "        FROM result\n",
    "        WHERE lower(ingredients) NOT LIKE '%beef%' \n",
    "        AND (lower(description) LIKE '%beef%' OR lower(name) LIKE '%beef%') \n",
    "    )\n",
    "\"\"\")\n",
    "\n",
    "remover.transform(df).where('size(ingredients) > size(final)')\\\n",
    "       .select(explode(array_distinct(col('final'))).alias('ingredients'))\\\n",
    "       .groupby(col('ingredients')).count().orderBy(col('count').desc())"
   ]
  },
  {
   "cell_type": "markdown",
   "metadata": {},
   "source": [
    "In the end, I preferred to not include any other word on my search."
   ]
  },
  {
   "cell_type": "markdown",
   "metadata": {},
   "source": [
    "### Averaging the total cook time based on recipe's difficulty"
   ]
  },
  {
   "cell_type": "code",
   "execution_count": 45,
   "metadata": {},
   "outputs": [
    {
     "name": "stdout",
     "output_type": "stream",
     "text": [
      "root\n",
      " |-- cookTime: integer (nullable = true)\n",
      " |-- datePublished: date (nullable = true)\n",
      " |-- description: string (nullable = true)\n",
      " |-- image: string (nullable = true)\n",
      " |-- ingredients: string (nullable = true)\n",
      " |-- name: string (nullable = true)\n",
      " |-- prepTime: integer (nullable = true)\n",
      " |-- recipeYield: string (nullable = true)\n",
      " |-- url: string (nullable = true)\n",
      "\n"
     ]
    }
   ],
   "source": [
    "result_df.printSchema()"
   ]
  },
  {
   "cell_type": "code",
   "execution_count": 46,
   "metadata": {},
   "outputs": [
    {
     "data": {
      "text/html": [
       "<table border='1'>\n",
       "<tr><th>difficulty</th><th>avg_total_cooking_time</th></tr>\n",
       "<tr><td>hard </td><td>174.4814814814815</td></tr>\n",
       "<tr><td>medium</td><td>40.0</td></tr>\n",
       "<tr><td>easy</td><td>19.625</td></tr>\n",
       "</table>\n"
      ],
      "text/plain": [
       "+----------+----------------------+\n",
       "|difficulty|avg_total_cooking_time|\n",
       "+----------+----------------------+\n",
       "|     hard |     174.4814814814815|\n",
       "|    medium|                  40.0|\n",
       "|      easy|                19.625|\n",
       "+----------+----------------------+"
      ]
     },
     "execution_count": 46,
     "metadata": {},
     "output_type": "execute_result"
    }
   ],
   "source": [
    "spark.sql(\"\"\"\n",
    "    SELECT CASE WHEN total_cook_time < 30 THEN 'easy' \n",
    "                WHEN total_cook_time < 60 THEN 'medium'\n",
    "                ELSE 'hard ' END AS difficulty, AVG(total_cook_time) AS avg_total_cooking_time \n",
    "    FROM (\n",
    "        SELECT IFNULL(cookTime, 0) + IFNULL(prepTime, 0) AS total_cook_time\n",
    "        FROM result\n",
    "        WHERE lower(ingredients) LIKE '%beef%'\n",
    "        AND IFNULL(cookTime, prepTime) IS NOT NULL\n",
    "    )\n",
    "    GROUP BY 1\n",
    "\"\"\")"
   ]
  },
  {
   "cell_type": "code",
   "execution_count": 47,
   "metadata": {},
   "outputs": [
    {
     "data": {
      "text/html": [
       "<table border='1'>\n",
       "<tr><th>difficulty</th><th>avg_total_cooking_time</th></tr>\n",
       "<tr><td>medium</td><td>40.0</td></tr>\n",
       "<tr><td>hard</td><td>174.4814814814815</td></tr>\n",
       "<tr><td>easy</td><td>19.625</td></tr>\n",
       "</table>\n"
      ],
      "text/plain": [
       "+----------+----------------------+\n",
       "|difficulty|avg_total_cooking_time|\n",
       "+----------+----------------------+\n",
       "|    medium|                  40.0|\n",
       "|      hard|     174.4814814814815|\n",
       "|      easy|                19.625|\n",
       "+----------+----------------------+"
      ]
     },
     "execution_count": 47,
     "metadata": {},
     "output_type": "execute_result"
    }
   ],
   "source": [
    "filtered_df = result_df.filter(lower(result_df.ingredients).like('%beef%') & coalesce(result_df.cookTime, result_df.prepTime).isNotNull())\n",
    "sum_df = filtered_df.select((coalesce(filtered_df.cookTime, lit(0)) + coalesce(filtered_df.prepTime, lit(0))).alias('total_cook_time'))\n",
    "classified_df = sum_df.select(when(sum_df.total_cook_time < 30, 'easy').when(sum_df.total_cook_time < 60, 'medium').otherwise('hard').alias('difficulty'), sum_df.total_cook_time)\n",
    "result_df = classified_df.groupby('difficulty').agg(avg(sum_df.total_cook_time).alias('avg_total_cooking_time'))\n",
    "result_df"
   ]
  },
  {
   "cell_type": "code",
   "execution_count": 48,
   "metadata": {},
   "outputs": [],
   "source": [
    "result_df.repartition(1).write.csv('/tmp/output', header=True)"
   ]
  }
 ],
 "metadata": {
  "kernelspec": {
   "display_name": "Python 3",
   "language": "python",
   "name": "python3"
  },
  "language_info": {
   "codemirror_mode": {
    "name": "ipython",
    "version": 3
   },
   "file_extension": ".py",
   "mimetype": "text/x-python",
   "name": "python",
   "nbconvert_exporter": "python",
   "pygments_lexer": "ipython3",
   "version": "3.7.9"
  }
 },
 "nbformat": 4,
 "nbformat_minor": 4
}
